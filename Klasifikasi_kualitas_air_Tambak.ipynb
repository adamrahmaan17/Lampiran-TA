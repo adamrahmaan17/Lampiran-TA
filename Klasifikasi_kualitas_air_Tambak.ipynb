{
  "nbformat": 4,
  "nbformat_minor": 0,
  "metadata": {
    "colab": {
      "provenance": [],
      "mount_file_id": "1jLM2a3PjywEOewGrFmH5ZSrmvVVIhMBG",
      "authorship_tag": "ABX9TyNE31AMIRkwvjPMghB+sBke",
      "include_colab_link": true
    },
    "kernelspec": {
      "name": "python3",
      "display_name": "Python 3"
    },
    "language_info": {
      "name": "python"
    }
  },
  "cells": [
    {
      "cell_type": "markdown",
      "metadata": {
        "id": "view-in-github",
        "colab_type": "text"
      },
      "source": [
        "<a href=\"https://colab.research.google.com/github/adamrahmaan17/Lampiran-TA/blob/main/Klasifikasi_kualitas_air_Tambak.ipynb\" target=\"_parent\"><img src=\"https://colab.research.google.com/assets/colab-badge.svg\" alt=\"Open In Colab\"/></a>"
      ]
    },
    {
      "cell_type": "markdown",
      "source": [
        "\n",
        "\n",
        "**Klasifikasi kondisi tambak udang Vaname dengan menggunakan algoritma C4.5 (decision tree) studi kasus tambak udang Bratasena**\n",
        "\n",
        "\n",
        "\n",
        "Urutan proses untuk pengerjaan:\n",
        "1. Pengumpulan Data\n",
        "2. Data Preprocessing\n",
        "3. Penerapan Algoritma C4.5\n",
        "4. Evaluasi Model\n"
      ],
      "metadata": {
        "id": "OZHTUEdTZy_i"
      }
    },
    {
      "cell_type": "code",
      "source": [
        "from google.colab import drive\n",
        "drive.mount('/content/drive')"
      ],
      "metadata": {
        "colab": {
          "base_uri": "https://localhost:8080/"
        },
        "id": "Po61oXv6Z5VE",
        "outputId": "0efbbced-67e4-44f7-a688-5787abbc5703"
      },
      "execution_count": null,
      "outputs": [
        {
          "output_type": "stream",
          "name": "stdout",
          "text": [
            "Drive already mounted at /content/drive; to attempt to forcibly remount, call drive.mount(\"/content/drive\", force_remount=True).\n"
          ]
        }
      ]
    },
    {
      "cell_type": "code",
      "source": [
        "import pandas as pd \n",
        "data1 = pd.read_csv('/content/drive/MyDrive/Datatambak.csv')"
      ],
      "metadata": {
        "id": "e3MBMKnyaEKc"
      },
      "execution_count": null,
      "outputs": []
    },
    {
      "cell_type": "code",
      "source": [
        "data1.info()"
      ],
      "metadata": {
        "colab": {
          "base_uri": "https://localhost:8080/"
        },
        "id": "GQ-b4v1xbHWu",
        "outputId": "9f6fe5f9-fda6-4afc-d0b1-69c8718ded54"
      },
      "execution_count": null,
      "outputs": [
        {
          "output_type": "stream",
          "name": "stdout",
          "text": [
            "<class 'pandas.core.frame.DataFrame'>\n",
            "RangeIndex: 630 entries, 0 to 629\n",
            "Data columns (total 8 columns):\n",
            " #   Column     Non-Null Count  Dtype  \n",
            "---  ------     --------------  -----  \n",
            " 0   No         630 non-null    int64  \n",
            " 1   pH         630 non-null    float64\n",
            " 2   DO (Mg/L)  630 non-null    float64\n",
            " 3   TDS        630 non-null    int64  \n",
            " 4   NO3        630 non-null    float64\n",
            " 5   suhu       630 non-null    float64\n",
            " 6   Kategori   630 non-null    object \n",
            " 7   Date       630 non-null    object \n",
            "dtypes: float64(4), int64(2), object(2)\n",
            "memory usage: 39.5+ KB\n"
          ]
        }
      ]
    },
    {
      "cell_type": "code",
      "source": [
        "print(data1)"
      ],
      "metadata": {
        "colab": {
          "base_uri": "https://localhost:8080/"
        },
        "id": "AlUnBXFGbUfQ",
        "outputId": "15741618-e8fa-49fe-e631-827e058fb2aa"
      },
      "execution_count": null,
      "outputs": [
        {
          "output_type": "stream",
          "name": "stdout",
          "text": [
            "      No   pH  DO (Mg/L)  TDS  NO3  suhu  Kategori       Date\n",
            "0      1  6.0        3.0  300  3.6   29.5      Bad  2/10/2009\n",
            "1      2  7.0        2.9  450  3.6   31.0      Bad  2/10/2009\n",
            "2      3  6.5        3.5  320  3.4   30.0     Poor  2/11/2009\n",
            "3      4  6.8        3.8  400  3.0   31.0     Poor  2/11/2009\n",
            "4      5  8.0        3.6  700  3.1   32.0     Poor  2/12/2009\n",
            "..   ...  ...        ...  ...  ...    ...      ...        ...\n",
            "625  626  6.7        3.7  942  2.4   31.0      Bad   1/7/2010\n",
            "626  627  9.0        3.7  544  3.4   30.0      Bad   1/8/2010\n",
            "627  628  7.6        2.3  986  2.7   30.0     Good   1/8/2010\n",
            "628  629  7.9        2.3  353  3.9   31.0     Good   1/9/2010\n",
            "629  630  8.0        5.7  584  2.4   29.0     Good   1/9/2010\n",
            "\n",
            "[630 rows x 8 columns]\n"
          ]
        }
      ]
    },
    {
      "cell_type": "code",
      "source": [
        "data1.to_excel (\"timeseries_data.xlsx\")"
      ],
      "metadata": {
        "id": "XkbxC0r7bbeE"
      },
      "execution_count": null,
      "outputs": []
    },
    {
      "cell_type": "markdown",
      "source": [
        "Penghapusan atribut/kolom pada dataset yang tidak diperlukan untuk penelitian"
      ],
      "metadata": {
        "id": "OY2FL8AQhfco"
      }
    },
    {
      "cell_type": "code",
      "source": [
        "# Memuat dataframe dari file Excel di Google Drive\n",
        "dataframe = pd.read_excel(\"/content/drive/MyDrive/timeseries_data.xlsx\")"
      ],
      "metadata": {
        "id": "IjcwcMpeho1L"
      },
      "execution_count": null,
      "outputs": []
    },
    {
      "cell_type": "code",
      "source": [
        "dataframe"
      ],
      "metadata": {
        "colab": {
          "base_uri": "https://localhost:8080/",
          "height": 424
        },
        "id": "9mRQYqEAh7oh",
        "outputId": "78461b54-8a55-44de-c6d4-c7aaa33706ad"
      },
      "execution_count": null,
      "outputs": [
        {
          "output_type": "execute_result",
          "data": {
            "text/plain": [
              "     Unnamed: 0   No   pH  DO (Mg/L)  TDS  NO3  suhu  Kategori       Date\n",
              "0             0    1  6.0        3.0  300  3.6   29.5      Bad  2/10/2009\n",
              "1             1    2  7.0        2.9  450  3.6   31.0      Bad  2/10/2009\n",
              "2             2    3  6.5        3.5  320  3.4   30.0     Poor  2/11/2009\n",
              "3             3    4  6.8        3.8  400  3.0   31.0     Poor  2/11/2009\n",
              "4             4    5  8.0        3.6  700  3.1   32.0     Poor  2/12/2009\n",
              "..          ...  ...  ...        ...  ...  ...    ...      ...        ...\n",
              "625         625  626  6.7        3.7  942  2.4   31.0      Bad   1/7/2010\n",
              "626         626  627  9.0        3.7  544  3.4   30.0      Bad   1/8/2010\n",
              "627         627  628  7.6        2.3  986  2.7   30.0     Good   1/8/2010\n",
              "628         628  629  7.9        2.3  353  3.9   31.0     Good   1/9/2010\n",
              "629         629  630  8.0        5.7  584  2.4   29.0     Good   1/9/2010\n",
              "\n",
              "[630 rows x 9 columns]"
            ],
            "text/html": [
              "\n",
              "  <div id=\"df-217db016-d87c-4da0-b8cb-e39df3742767\">\n",
              "    <div class=\"colab-df-container\">\n",
              "      <div>\n",
              "<style scoped>\n",
              "    .dataframe tbody tr th:only-of-type {\n",
              "        vertical-align: middle;\n",
              "    }\n",
              "\n",
              "    .dataframe tbody tr th {\n",
              "        vertical-align: top;\n",
              "    }\n",
              "\n",
              "    .dataframe thead th {\n",
              "        text-align: right;\n",
              "    }\n",
              "</style>\n",
              "<table border=\"1\" class=\"dataframe\">\n",
              "  <thead>\n",
              "    <tr style=\"text-align: right;\">\n",
              "      <th></th>\n",
              "      <th>Unnamed: 0</th>\n",
              "      <th>No</th>\n",
              "      <th>pH</th>\n",
              "      <th>DO (Mg/L)</th>\n",
              "      <th>TDS</th>\n",
              "      <th>NO3</th>\n",
              "      <th>suhu</th>\n",
              "      <th>Kategori</th>\n",
              "      <th>Date</th>\n",
              "    </tr>\n",
              "  </thead>\n",
              "  <tbody>\n",
              "    <tr>\n",
              "      <th>0</th>\n",
              "      <td>0</td>\n",
              "      <td>1</td>\n",
              "      <td>6.0</td>\n",
              "      <td>3.0</td>\n",
              "      <td>300</td>\n",
              "      <td>3.6</td>\n",
              "      <td>29.5</td>\n",
              "      <td>Bad</td>\n",
              "      <td>2/10/2009</td>\n",
              "    </tr>\n",
              "    <tr>\n",
              "      <th>1</th>\n",
              "      <td>1</td>\n",
              "      <td>2</td>\n",
              "      <td>7.0</td>\n",
              "      <td>2.9</td>\n",
              "      <td>450</td>\n",
              "      <td>3.6</td>\n",
              "      <td>31.0</td>\n",
              "      <td>Bad</td>\n",
              "      <td>2/10/2009</td>\n",
              "    </tr>\n",
              "    <tr>\n",
              "      <th>2</th>\n",
              "      <td>2</td>\n",
              "      <td>3</td>\n",
              "      <td>6.5</td>\n",
              "      <td>3.5</td>\n",
              "      <td>320</td>\n",
              "      <td>3.4</td>\n",
              "      <td>30.0</td>\n",
              "      <td>Poor</td>\n",
              "      <td>2/11/2009</td>\n",
              "    </tr>\n",
              "    <tr>\n",
              "      <th>3</th>\n",
              "      <td>3</td>\n",
              "      <td>4</td>\n",
              "      <td>6.8</td>\n",
              "      <td>3.8</td>\n",
              "      <td>400</td>\n",
              "      <td>3.0</td>\n",
              "      <td>31.0</td>\n",
              "      <td>Poor</td>\n",
              "      <td>2/11/2009</td>\n",
              "    </tr>\n",
              "    <tr>\n",
              "      <th>4</th>\n",
              "      <td>4</td>\n",
              "      <td>5</td>\n",
              "      <td>8.0</td>\n",
              "      <td>3.6</td>\n",
              "      <td>700</td>\n",
              "      <td>3.1</td>\n",
              "      <td>32.0</td>\n",
              "      <td>Poor</td>\n",
              "      <td>2/12/2009</td>\n",
              "    </tr>\n",
              "    <tr>\n",
              "      <th>...</th>\n",
              "      <td>...</td>\n",
              "      <td>...</td>\n",
              "      <td>...</td>\n",
              "      <td>...</td>\n",
              "      <td>...</td>\n",
              "      <td>...</td>\n",
              "      <td>...</td>\n",
              "      <td>...</td>\n",
              "      <td>...</td>\n",
              "    </tr>\n",
              "    <tr>\n",
              "      <th>625</th>\n",
              "      <td>625</td>\n",
              "      <td>626</td>\n",
              "      <td>6.7</td>\n",
              "      <td>3.7</td>\n",
              "      <td>942</td>\n",
              "      <td>2.4</td>\n",
              "      <td>31.0</td>\n",
              "      <td>Bad</td>\n",
              "      <td>1/7/2010</td>\n",
              "    </tr>\n",
              "    <tr>\n",
              "      <th>626</th>\n",
              "      <td>626</td>\n",
              "      <td>627</td>\n",
              "      <td>9.0</td>\n",
              "      <td>3.7</td>\n",
              "      <td>544</td>\n",
              "      <td>3.4</td>\n",
              "      <td>30.0</td>\n",
              "      <td>Bad</td>\n",
              "      <td>1/8/2010</td>\n",
              "    </tr>\n",
              "    <tr>\n",
              "      <th>627</th>\n",
              "      <td>627</td>\n",
              "      <td>628</td>\n",
              "      <td>7.6</td>\n",
              "      <td>2.3</td>\n",
              "      <td>986</td>\n",
              "      <td>2.7</td>\n",
              "      <td>30.0</td>\n",
              "      <td>Good</td>\n",
              "      <td>1/8/2010</td>\n",
              "    </tr>\n",
              "    <tr>\n",
              "      <th>628</th>\n",
              "      <td>628</td>\n",
              "      <td>629</td>\n",
              "      <td>7.9</td>\n",
              "      <td>2.3</td>\n",
              "      <td>353</td>\n",
              "      <td>3.9</td>\n",
              "      <td>31.0</td>\n",
              "      <td>Good</td>\n",
              "      <td>1/9/2010</td>\n",
              "    </tr>\n",
              "    <tr>\n",
              "      <th>629</th>\n",
              "      <td>629</td>\n",
              "      <td>630</td>\n",
              "      <td>8.0</td>\n",
              "      <td>5.7</td>\n",
              "      <td>584</td>\n",
              "      <td>2.4</td>\n",
              "      <td>29.0</td>\n",
              "      <td>Good</td>\n",
              "      <td>1/9/2010</td>\n",
              "    </tr>\n",
              "  </tbody>\n",
              "</table>\n",
              "<p>630 rows × 9 columns</p>\n",
              "</div>\n",
              "      <button class=\"colab-df-convert\" onclick=\"convertToInteractive('df-217db016-d87c-4da0-b8cb-e39df3742767')\"\n",
              "              title=\"Convert this dataframe to an interactive table.\"\n",
              "              style=\"display:none;\">\n",
              "        \n",
              "  <svg xmlns=\"http://www.w3.org/2000/svg\" height=\"24px\"viewBox=\"0 0 24 24\"\n",
              "       width=\"24px\">\n",
              "    <path d=\"M0 0h24v24H0V0z\" fill=\"none\"/>\n",
              "    <path d=\"M18.56 5.44l.94 2.06.94-2.06 2.06-.94-2.06-.94-.94-2.06-.94 2.06-2.06.94zm-11 1L8.5 8.5l.94-2.06 2.06-.94-2.06-.94L8.5 2.5l-.94 2.06-2.06.94zm10 10l.94 2.06.94-2.06 2.06-.94-2.06-.94-.94-2.06-.94 2.06-2.06.94z\"/><path d=\"M17.41 7.96l-1.37-1.37c-.4-.4-.92-.59-1.43-.59-.52 0-1.04.2-1.43.59L10.3 9.45l-7.72 7.72c-.78.78-.78 2.05 0 2.83L4 21.41c.39.39.9.59 1.41.59.51 0 1.02-.2 1.41-.59l7.78-7.78 2.81-2.81c.8-.78.8-2.07 0-2.86zM5.41 20L4 18.59l7.72-7.72 1.47 1.35L5.41 20z\"/>\n",
              "  </svg>\n",
              "      </button>\n",
              "      \n",
              "  <style>\n",
              "    .colab-df-container {\n",
              "      display:flex;\n",
              "      flex-wrap:wrap;\n",
              "      gap: 12px;\n",
              "    }\n",
              "\n",
              "    .colab-df-convert {\n",
              "      background-color: #E8F0FE;\n",
              "      border: none;\n",
              "      border-radius: 50%;\n",
              "      cursor: pointer;\n",
              "      display: none;\n",
              "      fill: #1967D2;\n",
              "      height: 32px;\n",
              "      padding: 0 0 0 0;\n",
              "      width: 32px;\n",
              "    }\n",
              "\n",
              "    .colab-df-convert:hover {\n",
              "      background-color: #E2EBFA;\n",
              "      box-shadow: 0px 1px 2px rgba(60, 64, 67, 0.3), 0px 1px 3px 1px rgba(60, 64, 67, 0.15);\n",
              "      fill: #174EA6;\n",
              "    }\n",
              "\n",
              "    [theme=dark] .colab-df-convert {\n",
              "      background-color: #3B4455;\n",
              "      fill: #D2E3FC;\n",
              "    }\n",
              "\n",
              "    [theme=dark] .colab-df-convert:hover {\n",
              "      background-color: #434B5C;\n",
              "      box-shadow: 0px 1px 3px 1px rgba(0, 0, 0, 0.15);\n",
              "      filter: drop-shadow(0px 1px 2px rgba(0, 0, 0, 0.3));\n",
              "      fill: #FFFFFF;\n",
              "    }\n",
              "  </style>\n",
              "\n",
              "      <script>\n",
              "        const buttonEl =\n",
              "          document.querySelector('#df-217db016-d87c-4da0-b8cb-e39df3742767 button.colab-df-convert');\n",
              "        buttonEl.style.display =\n",
              "          google.colab.kernel.accessAllowed ? 'block' : 'none';\n",
              "\n",
              "        async function convertToInteractive(key) {\n",
              "          const element = document.querySelector('#df-217db016-d87c-4da0-b8cb-e39df3742767');\n",
              "          const dataTable =\n",
              "            await google.colab.kernel.invokeFunction('convertToInteractive',\n",
              "                                                     [key], {});\n",
              "          if (!dataTable) return;\n",
              "\n",
              "          const docLinkHtml = 'Like what you see? Visit the ' +\n",
              "            '<a target=\"_blank\" href=https://colab.research.google.com/notebooks/data_table.ipynb>data table notebook</a>'\n",
              "            + ' to learn more about interactive tables.';\n",
              "          element.innerHTML = '';\n",
              "          dataTable['output_type'] = 'display_data';\n",
              "          await google.colab.output.renderOutput(dataTable, element);\n",
              "          const docLink = document.createElement('div');\n",
              "          docLink.innerHTML = docLinkHtml;\n",
              "          element.appendChild(docLink);\n",
              "        }\n",
              "      </script>\n",
              "    </div>\n",
              "  </div>\n",
              "  "
            ]
          },
          "metadata": {},
          "execution_count": 9
        }
      ]
    },
    {
      "cell_type": "markdown",
      "source": [
        "kemudian penulis akan melakukan penghapusan kolom yang tidak diperlukan seperti No, DO NO3 dan date"
      ],
      "metadata": {
        "id": "bBeBtDXbiUkv"
      }
    },
    {
      "cell_type": "code",
      "source": [
        "dataframe = dataframe.drop(['Unnamed: 0', 'No', 'DO (Mg/L)', 'NO3'], axis=1)\n",
        "dataframe"
      ],
      "metadata": {
        "colab": {
          "base_uri": "https://localhost:8080/",
          "height": 424
        },
        "id": "5zMFRg3LinOK",
        "outputId": "339cb55e-c089-484a-cc5e-15a730f019cb"
      },
      "execution_count": null,
      "outputs": [
        {
          "output_type": "execute_result",
          "data": {
            "text/plain": [
              "      pH  TDS  suhu  Kategori       Date\n",
              "0    6.0  300   29.5      Bad  2/10/2009\n",
              "1    7.0  450   31.0      Bad  2/10/2009\n",
              "2    6.5  320   30.0     Poor  2/11/2009\n",
              "3    6.8  400   31.0     Poor  2/11/2009\n",
              "4    8.0  700   32.0     Poor  2/12/2009\n",
              "..   ...  ...    ...      ...        ...\n",
              "625  6.7  942   31.0      Bad   1/7/2010\n",
              "626  9.0  544   30.0      Bad   1/8/2010\n",
              "627  7.6  986   30.0     Good   1/8/2010\n",
              "628  7.9  353   31.0     Good   1/9/2010\n",
              "629  8.0  584   29.0     Good   1/9/2010\n",
              "\n",
              "[630 rows x 5 columns]"
            ],
            "text/html": [
              "\n",
              "  <div id=\"df-0016c6f4-3405-4a42-91a2-b7671115bddd\">\n",
              "    <div class=\"colab-df-container\">\n",
              "      <div>\n",
              "<style scoped>\n",
              "    .dataframe tbody tr th:only-of-type {\n",
              "        vertical-align: middle;\n",
              "    }\n",
              "\n",
              "    .dataframe tbody tr th {\n",
              "        vertical-align: top;\n",
              "    }\n",
              "\n",
              "    .dataframe thead th {\n",
              "        text-align: right;\n",
              "    }\n",
              "</style>\n",
              "<table border=\"1\" class=\"dataframe\">\n",
              "  <thead>\n",
              "    <tr style=\"text-align: right;\">\n",
              "      <th></th>\n",
              "      <th>pH</th>\n",
              "      <th>TDS</th>\n",
              "      <th>suhu</th>\n",
              "      <th>Kategori</th>\n",
              "      <th>Date</th>\n",
              "    </tr>\n",
              "  </thead>\n",
              "  <tbody>\n",
              "    <tr>\n",
              "      <th>0</th>\n",
              "      <td>6.0</td>\n",
              "      <td>300</td>\n",
              "      <td>29.5</td>\n",
              "      <td>Bad</td>\n",
              "      <td>2/10/2009</td>\n",
              "    </tr>\n",
              "    <tr>\n",
              "      <th>1</th>\n",
              "      <td>7.0</td>\n",
              "      <td>450</td>\n",
              "      <td>31.0</td>\n",
              "      <td>Bad</td>\n",
              "      <td>2/10/2009</td>\n",
              "    </tr>\n",
              "    <tr>\n",
              "      <th>2</th>\n",
              "      <td>6.5</td>\n",
              "      <td>320</td>\n",
              "      <td>30.0</td>\n",
              "      <td>Poor</td>\n",
              "      <td>2/11/2009</td>\n",
              "    </tr>\n",
              "    <tr>\n",
              "      <th>3</th>\n",
              "      <td>6.8</td>\n",
              "      <td>400</td>\n",
              "      <td>31.0</td>\n",
              "      <td>Poor</td>\n",
              "      <td>2/11/2009</td>\n",
              "    </tr>\n",
              "    <tr>\n",
              "      <th>4</th>\n",
              "      <td>8.0</td>\n",
              "      <td>700</td>\n",
              "      <td>32.0</td>\n",
              "      <td>Poor</td>\n",
              "      <td>2/12/2009</td>\n",
              "    </tr>\n",
              "    <tr>\n",
              "      <th>...</th>\n",
              "      <td>...</td>\n",
              "      <td>...</td>\n",
              "      <td>...</td>\n",
              "      <td>...</td>\n",
              "      <td>...</td>\n",
              "    </tr>\n",
              "    <tr>\n",
              "      <th>625</th>\n",
              "      <td>6.7</td>\n",
              "      <td>942</td>\n",
              "      <td>31.0</td>\n",
              "      <td>Bad</td>\n",
              "      <td>1/7/2010</td>\n",
              "    </tr>\n",
              "    <tr>\n",
              "      <th>626</th>\n",
              "      <td>9.0</td>\n",
              "      <td>544</td>\n",
              "      <td>30.0</td>\n",
              "      <td>Bad</td>\n",
              "      <td>1/8/2010</td>\n",
              "    </tr>\n",
              "    <tr>\n",
              "      <th>627</th>\n",
              "      <td>7.6</td>\n",
              "      <td>986</td>\n",
              "      <td>30.0</td>\n",
              "      <td>Good</td>\n",
              "      <td>1/8/2010</td>\n",
              "    </tr>\n",
              "    <tr>\n",
              "      <th>628</th>\n",
              "      <td>7.9</td>\n",
              "      <td>353</td>\n",
              "      <td>31.0</td>\n",
              "      <td>Good</td>\n",
              "      <td>1/9/2010</td>\n",
              "    </tr>\n",
              "    <tr>\n",
              "      <th>629</th>\n",
              "      <td>8.0</td>\n",
              "      <td>584</td>\n",
              "      <td>29.0</td>\n",
              "      <td>Good</td>\n",
              "      <td>1/9/2010</td>\n",
              "    </tr>\n",
              "  </tbody>\n",
              "</table>\n",
              "<p>630 rows × 5 columns</p>\n",
              "</div>\n",
              "      <button class=\"colab-df-convert\" onclick=\"convertToInteractive('df-0016c6f4-3405-4a42-91a2-b7671115bddd')\"\n",
              "              title=\"Convert this dataframe to an interactive table.\"\n",
              "              style=\"display:none;\">\n",
              "        \n",
              "  <svg xmlns=\"http://www.w3.org/2000/svg\" height=\"24px\"viewBox=\"0 0 24 24\"\n",
              "       width=\"24px\">\n",
              "    <path d=\"M0 0h24v24H0V0z\" fill=\"none\"/>\n",
              "    <path d=\"M18.56 5.44l.94 2.06.94-2.06 2.06-.94-2.06-.94-.94-2.06-.94 2.06-2.06.94zm-11 1L8.5 8.5l.94-2.06 2.06-.94-2.06-.94L8.5 2.5l-.94 2.06-2.06.94zm10 10l.94 2.06.94-2.06 2.06-.94-2.06-.94-.94-2.06-.94 2.06-2.06.94z\"/><path d=\"M17.41 7.96l-1.37-1.37c-.4-.4-.92-.59-1.43-.59-.52 0-1.04.2-1.43.59L10.3 9.45l-7.72 7.72c-.78.78-.78 2.05 0 2.83L4 21.41c.39.39.9.59 1.41.59.51 0 1.02-.2 1.41-.59l7.78-7.78 2.81-2.81c.8-.78.8-2.07 0-2.86zM5.41 20L4 18.59l7.72-7.72 1.47 1.35L5.41 20z\"/>\n",
              "  </svg>\n",
              "      </button>\n",
              "      \n",
              "  <style>\n",
              "    .colab-df-container {\n",
              "      display:flex;\n",
              "      flex-wrap:wrap;\n",
              "      gap: 12px;\n",
              "    }\n",
              "\n",
              "    .colab-df-convert {\n",
              "      background-color: #E8F0FE;\n",
              "      border: none;\n",
              "      border-radius: 50%;\n",
              "      cursor: pointer;\n",
              "      display: none;\n",
              "      fill: #1967D2;\n",
              "      height: 32px;\n",
              "      padding: 0 0 0 0;\n",
              "      width: 32px;\n",
              "    }\n",
              "\n",
              "    .colab-df-convert:hover {\n",
              "      background-color: #E2EBFA;\n",
              "      box-shadow: 0px 1px 2px rgba(60, 64, 67, 0.3), 0px 1px 3px 1px rgba(60, 64, 67, 0.15);\n",
              "      fill: #174EA6;\n",
              "    }\n",
              "\n",
              "    [theme=dark] .colab-df-convert {\n",
              "      background-color: #3B4455;\n",
              "      fill: #D2E3FC;\n",
              "    }\n",
              "\n",
              "    [theme=dark] .colab-df-convert:hover {\n",
              "      background-color: #434B5C;\n",
              "      box-shadow: 0px 1px 3px 1px rgba(0, 0, 0, 0.15);\n",
              "      filter: drop-shadow(0px 1px 2px rgba(0, 0, 0, 0.3));\n",
              "      fill: #FFFFFF;\n",
              "    }\n",
              "  </style>\n",
              "\n",
              "      <script>\n",
              "        const buttonEl =\n",
              "          document.querySelector('#df-0016c6f4-3405-4a42-91a2-b7671115bddd button.colab-df-convert');\n",
              "        buttonEl.style.display =\n",
              "          google.colab.kernel.accessAllowed ? 'block' : 'none';\n",
              "\n",
              "        async function convertToInteractive(key) {\n",
              "          const element = document.querySelector('#df-0016c6f4-3405-4a42-91a2-b7671115bddd');\n",
              "          const dataTable =\n",
              "            await google.colab.kernel.invokeFunction('convertToInteractive',\n",
              "                                                     [key], {});\n",
              "          if (!dataTable) return;\n",
              "\n",
              "          const docLinkHtml = 'Like what you see? Visit the ' +\n",
              "            '<a target=\"_blank\" href=https://colab.research.google.com/notebooks/data_table.ipynb>data table notebook</a>'\n",
              "            + ' to learn more about interactive tables.';\n",
              "          element.innerHTML = '';\n",
              "          dataTable['output_type'] = 'display_data';\n",
              "          await google.colab.output.renderOutput(dataTable, element);\n",
              "          const docLink = document.createElement('div');\n",
              "          docLink.innerHTML = docLinkHtml;\n",
              "          element.appendChild(docLink);\n",
              "        }\n",
              "      </script>\n",
              "    </div>\n",
              "  </div>\n",
              "  "
            ]
          },
          "metadata": {},
          "execution_count": 10
        }
      ]
    },
    {
      "cell_type": "code",
      "source": [
        "dataframe"
      ],
      "metadata": {
        "colab": {
          "base_uri": "https://localhost:8080/",
          "height": 424
        },
        "id": "WMGU1hU1j498",
        "outputId": "b3aa404e-76a5-4a5f-aa40-ba0c4326dd7c"
      },
      "execution_count": null,
      "outputs": [
        {
          "output_type": "execute_result",
          "data": {
            "text/plain": [
              "      pH  TDS  suhu  Kategori       Date\n",
              "0    6.0  300   29.5      Bad  2/10/2009\n",
              "1    7.0  450   31.0      Bad  2/10/2009\n",
              "2    6.5  320   30.0     Poor  2/11/2009\n",
              "3    6.8  400   31.0     Poor  2/11/2009\n",
              "4    8.0  700   32.0     Poor  2/12/2009\n",
              "..   ...  ...    ...      ...        ...\n",
              "625  6.7  942   31.0      Bad   1/7/2010\n",
              "626  9.0  544   30.0      Bad   1/8/2010\n",
              "627  7.6  986   30.0     Good   1/8/2010\n",
              "628  7.9  353   31.0     Good   1/9/2010\n",
              "629  8.0  584   29.0     Good   1/9/2010\n",
              "\n",
              "[630 rows x 5 columns]"
            ],
            "text/html": [
              "\n",
              "  <div id=\"df-5ff44943-b81c-44ca-9009-923079a9dec0\">\n",
              "    <div class=\"colab-df-container\">\n",
              "      <div>\n",
              "<style scoped>\n",
              "    .dataframe tbody tr th:only-of-type {\n",
              "        vertical-align: middle;\n",
              "    }\n",
              "\n",
              "    .dataframe tbody tr th {\n",
              "        vertical-align: top;\n",
              "    }\n",
              "\n",
              "    .dataframe thead th {\n",
              "        text-align: right;\n",
              "    }\n",
              "</style>\n",
              "<table border=\"1\" class=\"dataframe\">\n",
              "  <thead>\n",
              "    <tr style=\"text-align: right;\">\n",
              "      <th></th>\n",
              "      <th>pH</th>\n",
              "      <th>TDS</th>\n",
              "      <th>suhu</th>\n",
              "      <th>Kategori</th>\n",
              "      <th>Date</th>\n",
              "    </tr>\n",
              "  </thead>\n",
              "  <tbody>\n",
              "    <tr>\n",
              "      <th>0</th>\n",
              "      <td>6.0</td>\n",
              "      <td>300</td>\n",
              "      <td>29.5</td>\n",
              "      <td>Bad</td>\n",
              "      <td>2/10/2009</td>\n",
              "    </tr>\n",
              "    <tr>\n",
              "      <th>1</th>\n",
              "      <td>7.0</td>\n",
              "      <td>450</td>\n",
              "      <td>31.0</td>\n",
              "      <td>Bad</td>\n",
              "      <td>2/10/2009</td>\n",
              "    </tr>\n",
              "    <tr>\n",
              "      <th>2</th>\n",
              "      <td>6.5</td>\n",
              "      <td>320</td>\n",
              "      <td>30.0</td>\n",
              "      <td>Poor</td>\n",
              "      <td>2/11/2009</td>\n",
              "    </tr>\n",
              "    <tr>\n",
              "      <th>3</th>\n",
              "      <td>6.8</td>\n",
              "      <td>400</td>\n",
              "      <td>31.0</td>\n",
              "      <td>Poor</td>\n",
              "      <td>2/11/2009</td>\n",
              "    </tr>\n",
              "    <tr>\n",
              "      <th>4</th>\n",
              "      <td>8.0</td>\n",
              "      <td>700</td>\n",
              "      <td>32.0</td>\n",
              "      <td>Poor</td>\n",
              "      <td>2/12/2009</td>\n",
              "    </tr>\n",
              "    <tr>\n",
              "      <th>...</th>\n",
              "      <td>...</td>\n",
              "      <td>...</td>\n",
              "      <td>...</td>\n",
              "      <td>...</td>\n",
              "      <td>...</td>\n",
              "    </tr>\n",
              "    <tr>\n",
              "      <th>625</th>\n",
              "      <td>6.7</td>\n",
              "      <td>942</td>\n",
              "      <td>31.0</td>\n",
              "      <td>Bad</td>\n",
              "      <td>1/7/2010</td>\n",
              "    </tr>\n",
              "    <tr>\n",
              "      <th>626</th>\n",
              "      <td>9.0</td>\n",
              "      <td>544</td>\n",
              "      <td>30.0</td>\n",
              "      <td>Bad</td>\n",
              "      <td>1/8/2010</td>\n",
              "    </tr>\n",
              "    <tr>\n",
              "      <th>627</th>\n",
              "      <td>7.6</td>\n",
              "      <td>986</td>\n",
              "      <td>30.0</td>\n",
              "      <td>Good</td>\n",
              "      <td>1/8/2010</td>\n",
              "    </tr>\n",
              "    <tr>\n",
              "      <th>628</th>\n",
              "      <td>7.9</td>\n",
              "      <td>353</td>\n",
              "      <td>31.0</td>\n",
              "      <td>Good</td>\n",
              "      <td>1/9/2010</td>\n",
              "    </tr>\n",
              "    <tr>\n",
              "      <th>629</th>\n",
              "      <td>8.0</td>\n",
              "      <td>584</td>\n",
              "      <td>29.0</td>\n",
              "      <td>Good</td>\n",
              "      <td>1/9/2010</td>\n",
              "    </tr>\n",
              "  </tbody>\n",
              "</table>\n",
              "<p>630 rows × 5 columns</p>\n",
              "</div>\n",
              "      <button class=\"colab-df-convert\" onclick=\"convertToInteractive('df-5ff44943-b81c-44ca-9009-923079a9dec0')\"\n",
              "              title=\"Convert this dataframe to an interactive table.\"\n",
              "              style=\"display:none;\">\n",
              "        \n",
              "  <svg xmlns=\"http://www.w3.org/2000/svg\" height=\"24px\"viewBox=\"0 0 24 24\"\n",
              "       width=\"24px\">\n",
              "    <path d=\"M0 0h24v24H0V0z\" fill=\"none\"/>\n",
              "    <path d=\"M18.56 5.44l.94 2.06.94-2.06 2.06-.94-2.06-.94-.94-2.06-.94 2.06-2.06.94zm-11 1L8.5 8.5l.94-2.06 2.06-.94-2.06-.94L8.5 2.5l-.94 2.06-2.06.94zm10 10l.94 2.06.94-2.06 2.06-.94-2.06-.94-.94-2.06-.94 2.06-2.06.94z\"/><path d=\"M17.41 7.96l-1.37-1.37c-.4-.4-.92-.59-1.43-.59-.52 0-1.04.2-1.43.59L10.3 9.45l-7.72 7.72c-.78.78-.78 2.05 0 2.83L4 21.41c.39.39.9.59 1.41.59.51 0 1.02-.2 1.41-.59l7.78-7.78 2.81-2.81c.8-.78.8-2.07 0-2.86zM5.41 20L4 18.59l7.72-7.72 1.47 1.35L5.41 20z\"/>\n",
              "  </svg>\n",
              "      </button>\n",
              "      \n",
              "  <style>\n",
              "    .colab-df-container {\n",
              "      display:flex;\n",
              "      flex-wrap:wrap;\n",
              "      gap: 12px;\n",
              "    }\n",
              "\n",
              "    .colab-df-convert {\n",
              "      background-color: #E8F0FE;\n",
              "      border: none;\n",
              "      border-radius: 50%;\n",
              "      cursor: pointer;\n",
              "      display: none;\n",
              "      fill: #1967D2;\n",
              "      height: 32px;\n",
              "      padding: 0 0 0 0;\n",
              "      width: 32px;\n",
              "    }\n",
              "\n",
              "    .colab-df-convert:hover {\n",
              "      background-color: #E2EBFA;\n",
              "      box-shadow: 0px 1px 2px rgba(60, 64, 67, 0.3), 0px 1px 3px 1px rgba(60, 64, 67, 0.15);\n",
              "      fill: #174EA6;\n",
              "    }\n",
              "\n",
              "    [theme=dark] .colab-df-convert {\n",
              "      background-color: #3B4455;\n",
              "      fill: #D2E3FC;\n",
              "    }\n",
              "\n",
              "    [theme=dark] .colab-df-convert:hover {\n",
              "      background-color: #434B5C;\n",
              "      box-shadow: 0px 1px 3px 1px rgba(0, 0, 0, 0.15);\n",
              "      filter: drop-shadow(0px 1px 2px rgba(0, 0, 0, 0.3));\n",
              "      fill: #FFFFFF;\n",
              "    }\n",
              "  </style>\n",
              "\n",
              "      <script>\n",
              "        const buttonEl =\n",
              "          document.querySelector('#df-5ff44943-b81c-44ca-9009-923079a9dec0 button.colab-df-convert');\n",
              "        buttonEl.style.display =\n",
              "          google.colab.kernel.accessAllowed ? 'block' : 'none';\n",
              "\n",
              "        async function convertToInteractive(key) {\n",
              "          const element = document.querySelector('#df-5ff44943-b81c-44ca-9009-923079a9dec0');\n",
              "          const dataTable =\n",
              "            await google.colab.kernel.invokeFunction('convertToInteractive',\n",
              "                                                     [key], {});\n",
              "          if (!dataTable) return;\n",
              "\n",
              "          const docLinkHtml = 'Like what you see? Visit the ' +\n",
              "            '<a target=\"_blank\" href=https://colab.research.google.com/notebooks/data_table.ipynb>data table notebook</a>'\n",
              "            + ' to learn more about interactive tables.';\n",
              "          element.innerHTML = '';\n",
              "          dataTable['output_type'] = 'display_data';\n",
              "          await google.colab.output.renderOutput(dataTable, element);\n",
              "          const docLink = document.createElement('div');\n",
              "          docLink.innerHTML = docLinkHtml;\n",
              "          element.appendChild(docLink);\n",
              "        }\n",
              "      </script>\n",
              "    </div>\n",
              "  </div>\n",
              "  "
            ]
          },
          "metadata": {},
          "execution_count": 11
        }
      ]
    },
    {
      "cell_type": "code",
      "source": [
        "dataframe = dataframe.drop(['Date'], axis=1)"
      ],
      "metadata": {
        "id": "t4TIJfnGj8rC"
      },
      "execution_count": null,
      "outputs": []
    },
    {
      "cell_type": "code",
      "source": [
        "dataframe"
      ],
      "metadata": {
        "colab": {
          "base_uri": "https://localhost:8080/",
          "height": 424
        },
        "id": "Q0_fFeiJj_xc",
        "outputId": "50e591a8-6426-4fbc-f237-47d32138ac6b"
      },
      "execution_count": null,
      "outputs": [
        {
          "output_type": "execute_result",
          "data": {
            "text/plain": [
              "      pH  TDS  suhu  Kategori\n",
              "0    6.0  300   29.5      Bad\n",
              "1    7.0  450   31.0      Bad\n",
              "2    6.5  320   30.0     Poor\n",
              "3    6.8  400   31.0     Poor\n",
              "4    8.0  700   32.0     Poor\n",
              "..   ...  ...    ...      ...\n",
              "625  6.7  942   31.0      Bad\n",
              "626  9.0  544   30.0      Bad\n",
              "627  7.6  986   30.0     Good\n",
              "628  7.9  353   31.0     Good\n",
              "629  8.0  584   29.0     Good\n",
              "\n",
              "[630 rows x 4 columns]"
            ],
            "text/html": [
              "\n",
              "  <div id=\"df-0b160c4b-9a53-4b91-a57c-f3d1b92c75e7\">\n",
              "    <div class=\"colab-df-container\">\n",
              "      <div>\n",
              "<style scoped>\n",
              "    .dataframe tbody tr th:only-of-type {\n",
              "        vertical-align: middle;\n",
              "    }\n",
              "\n",
              "    .dataframe tbody tr th {\n",
              "        vertical-align: top;\n",
              "    }\n",
              "\n",
              "    .dataframe thead th {\n",
              "        text-align: right;\n",
              "    }\n",
              "</style>\n",
              "<table border=\"1\" class=\"dataframe\">\n",
              "  <thead>\n",
              "    <tr style=\"text-align: right;\">\n",
              "      <th></th>\n",
              "      <th>pH</th>\n",
              "      <th>TDS</th>\n",
              "      <th>suhu</th>\n",
              "      <th>Kategori</th>\n",
              "    </tr>\n",
              "  </thead>\n",
              "  <tbody>\n",
              "    <tr>\n",
              "      <th>0</th>\n",
              "      <td>6.0</td>\n",
              "      <td>300</td>\n",
              "      <td>29.5</td>\n",
              "      <td>Bad</td>\n",
              "    </tr>\n",
              "    <tr>\n",
              "      <th>1</th>\n",
              "      <td>7.0</td>\n",
              "      <td>450</td>\n",
              "      <td>31.0</td>\n",
              "      <td>Bad</td>\n",
              "    </tr>\n",
              "    <tr>\n",
              "      <th>2</th>\n",
              "      <td>6.5</td>\n",
              "      <td>320</td>\n",
              "      <td>30.0</td>\n",
              "      <td>Poor</td>\n",
              "    </tr>\n",
              "    <tr>\n",
              "      <th>3</th>\n",
              "      <td>6.8</td>\n",
              "      <td>400</td>\n",
              "      <td>31.0</td>\n",
              "      <td>Poor</td>\n",
              "    </tr>\n",
              "    <tr>\n",
              "      <th>4</th>\n",
              "      <td>8.0</td>\n",
              "      <td>700</td>\n",
              "      <td>32.0</td>\n",
              "      <td>Poor</td>\n",
              "    </tr>\n",
              "    <tr>\n",
              "      <th>...</th>\n",
              "      <td>...</td>\n",
              "      <td>...</td>\n",
              "      <td>...</td>\n",
              "      <td>...</td>\n",
              "    </tr>\n",
              "    <tr>\n",
              "      <th>625</th>\n",
              "      <td>6.7</td>\n",
              "      <td>942</td>\n",
              "      <td>31.0</td>\n",
              "      <td>Bad</td>\n",
              "    </tr>\n",
              "    <tr>\n",
              "      <th>626</th>\n",
              "      <td>9.0</td>\n",
              "      <td>544</td>\n",
              "      <td>30.0</td>\n",
              "      <td>Bad</td>\n",
              "    </tr>\n",
              "    <tr>\n",
              "      <th>627</th>\n",
              "      <td>7.6</td>\n",
              "      <td>986</td>\n",
              "      <td>30.0</td>\n",
              "      <td>Good</td>\n",
              "    </tr>\n",
              "    <tr>\n",
              "      <th>628</th>\n",
              "      <td>7.9</td>\n",
              "      <td>353</td>\n",
              "      <td>31.0</td>\n",
              "      <td>Good</td>\n",
              "    </tr>\n",
              "    <tr>\n",
              "      <th>629</th>\n",
              "      <td>8.0</td>\n",
              "      <td>584</td>\n",
              "      <td>29.0</td>\n",
              "      <td>Good</td>\n",
              "    </tr>\n",
              "  </tbody>\n",
              "</table>\n",
              "<p>630 rows × 4 columns</p>\n",
              "</div>\n",
              "      <button class=\"colab-df-convert\" onclick=\"convertToInteractive('df-0b160c4b-9a53-4b91-a57c-f3d1b92c75e7')\"\n",
              "              title=\"Convert this dataframe to an interactive table.\"\n",
              "              style=\"display:none;\">\n",
              "        \n",
              "  <svg xmlns=\"http://www.w3.org/2000/svg\" height=\"24px\"viewBox=\"0 0 24 24\"\n",
              "       width=\"24px\">\n",
              "    <path d=\"M0 0h24v24H0V0z\" fill=\"none\"/>\n",
              "    <path d=\"M18.56 5.44l.94 2.06.94-2.06 2.06-.94-2.06-.94-.94-2.06-.94 2.06-2.06.94zm-11 1L8.5 8.5l.94-2.06 2.06-.94-2.06-.94L8.5 2.5l-.94 2.06-2.06.94zm10 10l.94 2.06.94-2.06 2.06-.94-2.06-.94-.94-2.06-.94 2.06-2.06.94z\"/><path d=\"M17.41 7.96l-1.37-1.37c-.4-.4-.92-.59-1.43-.59-.52 0-1.04.2-1.43.59L10.3 9.45l-7.72 7.72c-.78.78-.78 2.05 0 2.83L4 21.41c.39.39.9.59 1.41.59.51 0 1.02-.2 1.41-.59l7.78-7.78 2.81-2.81c.8-.78.8-2.07 0-2.86zM5.41 20L4 18.59l7.72-7.72 1.47 1.35L5.41 20z\"/>\n",
              "  </svg>\n",
              "      </button>\n",
              "      \n",
              "  <style>\n",
              "    .colab-df-container {\n",
              "      display:flex;\n",
              "      flex-wrap:wrap;\n",
              "      gap: 12px;\n",
              "    }\n",
              "\n",
              "    .colab-df-convert {\n",
              "      background-color: #E8F0FE;\n",
              "      border: none;\n",
              "      border-radius: 50%;\n",
              "      cursor: pointer;\n",
              "      display: none;\n",
              "      fill: #1967D2;\n",
              "      height: 32px;\n",
              "      padding: 0 0 0 0;\n",
              "      width: 32px;\n",
              "    }\n",
              "\n",
              "    .colab-df-convert:hover {\n",
              "      background-color: #E2EBFA;\n",
              "      box-shadow: 0px 1px 2px rgba(60, 64, 67, 0.3), 0px 1px 3px 1px rgba(60, 64, 67, 0.15);\n",
              "      fill: #174EA6;\n",
              "    }\n",
              "\n",
              "    [theme=dark] .colab-df-convert {\n",
              "      background-color: #3B4455;\n",
              "      fill: #D2E3FC;\n",
              "    }\n",
              "\n",
              "    [theme=dark] .colab-df-convert:hover {\n",
              "      background-color: #434B5C;\n",
              "      box-shadow: 0px 1px 3px 1px rgba(0, 0, 0, 0.15);\n",
              "      filter: drop-shadow(0px 1px 2px rgba(0, 0, 0, 0.3));\n",
              "      fill: #FFFFFF;\n",
              "    }\n",
              "  </style>\n",
              "\n",
              "      <script>\n",
              "        const buttonEl =\n",
              "          document.querySelector('#df-0b160c4b-9a53-4b91-a57c-f3d1b92c75e7 button.colab-df-convert');\n",
              "        buttonEl.style.display =\n",
              "          google.colab.kernel.accessAllowed ? 'block' : 'none';\n",
              "\n",
              "        async function convertToInteractive(key) {\n",
              "          const element = document.querySelector('#df-0b160c4b-9a53-4b91-a57c-f3d1b92c75e7');\n",
              "          const dataTable =\n",
              "            await google.colab.kernel.invokeFunction('convertToInteractive',\n",
              "                                                     [key], {});\n",
              "          if (!dataTable) return;\n",
              "\n",
              "          const docLinkHtml = 'Like what you see? Visit the ' +\n",
              "            '<a target=\"_blank\" href=https://colab.research.google.com/notebooks/data_table.ipynb>data table notebook</a>'\n",
              "            + ' to learn more about interactive tables.';\n",
              "          element.innerHTML = '';\n",
              "          dataTable['output_type'] = 'display_data';\n",
              "          await google.colab.output.renderOutput(dataTable, element);\n",
              "          const docLink = document.createElement('div');\n",
              "          docLink.innerHTML = docLinkHtml;\n",
              "          element.appendChild(docLink);\n",
              "        }\n",
              "      </script>\n",
              "    </div>\n",
              "  </div>\n",
              "  "
            ]
          },
          "metadata": {},
          "execution_count": 13
        }
      ]
    },
    {
      "cell_type": "markdown",
      "source": [
        "Kemudian dilakukan pengecekan missing values pada data"
      ],
      "metadata": {
        "id": "qS4oq1_WlOPK"
      }
    },
    {
      "cell_type": "code",
      "source": [
        "# mengecek missing value untuk setiap atribut/kolom\n",
        "print(dataframe.isna().sum())\n",
        "\n",
        "# menghitung jumlah dari missing value\n",
        "print(dataframe.isna().sum().sum())"
      ],
      "metadata": {
        "colab": {
          "base_uri": "https://localhost:8080/"
        },
        "id": "rwkj2UYblTM5",
        "outputId": "e1db2c51-90fb-4aeb-adfa-204f633dfbde"
      },
      "execution_count": null,
      "outputs": [
        {
          "output_type": "stream",
          "name": "stdout",
          "text": [
            "pH          0\n",
            "TDS         0\n",
            "suhu        0\n",
            "Kategori    0\n",
            "dtype: int64\n",
            "0\n"
          ]
        }
      ]
    },
    {
      "cell_type": "code",
      "source": [
        "total_categori = dataframe['Kategori'].value_counts()\n",
        "print(\"Jumlah data terisi pada kolom 'categori':\\n\",total_categori)\n",
        "\n",
        "import matplotlib.pyplot as plt\n",
        "print(\"\\n Grafik dari jumlah 'categori': \\n\")\n",
        "total_categori.plot.bar()"
      ],
      "metadata": {
        "colab": {
          "base_uri": "https://localhost:8080/",
          "height": 474
        },
        "id": "YZzer3FLlduD",
        "outputId": "d717e2bf-2e7b-43e3-9e66-504cf836ce8a"
      },
      "execution_count": null,
      "outputs": [
        {
          "output_type": "stream",
          "name": "stdout",
          "text": [
            "Jumlah data terisi pada kolom 'categori':\n",
            " Good        200\n",
            "Bad         188\n",
            "Poor        185\n",
            "Very Bad     57\n",
            "Name: Kategori, dtype: int64\n",
            "\n",
            " Grafik dari jumlah 'categori': \n",
            "\n"
          ]
        },
        {
          "output_type": "execute_result",
          "data": {
            "text/plain": [
              "<matplotlib.axes._subplots.AxesSubplot at 0x7fb0098c4e20>"
            ]
          },
          "metadata": {},
          "execution_count": 15
        },
        {
          "output_type": "display_data",
          "data": {
            "text/plain": [
              "<Figure size 432x288 with 1 Axes>"
            ],
            "image/png": "[encoded data removed]"
          },
          "metadata": {
            "needs_background": "light"
          }
        }
      ]
    },
    {
      "cell_type": "markdown",
      "source": [
        "missing values sudah di cek dan sudah di bersihkan "
      ],
      "metadata": {
        "id": "Mv82ntZwl15w"
      }
    },
    {
      "cell_type": "code",
      "source": [
        "dataframe"
      ],
      "metadata": {
        "colab": {
          "base_uri": "https://localhost:8080/",
          "height": 424
        },
        "id": "aoxOa-VTl4aI",
        "outputId": "3cc28942-e752-4fc0-cc27-a5ead307096c"
      },
      "execution_count": null,
      "outputs": [
        {
          "output_type": "execute_result",
          "data": {
            "text/plain": [
              "      pH  TDS  suhu  Kategori\n",
              "0    6.0  300   29.5      Bad\n",
              "1    7.0  450   31.0      Bad\n",
              "2    6.5  320   30.0     Poor\n",
              "3    6.8  400   31.0     Poor\n",
              "4    8.0  700   32.0     Poor\n",
              "..   ...  ...    ...      ...\n",
              "625  6.7  942   31.0      Bad\n",
              "626  9.0  544   30.0      Bad\n",
              "627  7.6  986   30.0     Good\n",
              "628  7.9  353   31.0     Good\n",
              "629  8.0  584   29.0     Good\n",
              "\n",
              "[630 rows x 4 columns]"
            ],
            "text/html": [
              "\n",
              "  <div id=\"df-3cd16995-35d0-44a7-a44d-a5435b0999a1\">\n",
              "    <div class=\"colab-df-container\">\n",
              "      <div>\n",
              "<style scoped>\n",
              "    .dataframe tbody tr th:only-of-type {\n",
              "        vertical-align: middle;\n",
              "    }\n",
              "\n",
              "    .dataframe tbody tr th {\n",
              "        vertical-align: top;\n",
              "    }\n",
              "\n",
              "    .dataframe thead th {\n",
              "        text-align: right;\n",
              "    }\n",
              "</style>\n",
              "<table border=\"1\" class=\"dataframe\">\n",
              "  <thead>\n",
              "    <tr style=\"text-align: right;\">\n",
              "      <th></th>\n",
              "      <th>pH</th>\n",
              "      <th>TDS</th>\n",
              "      <th>suhu</th>\n",
              "      <th>Kategori</th>\n",
              "    </tr>\n",
              "  </thead>\n",
              "  <tbody>\n",
              "    <tr>\n",
              "      <th>0</th>\n",
              "      <td>6.0</td>\n",
              "      <td>300</td>\n",
              "      <td>29.5</td>\n",
              "      <td>Bad</td>\n",
              "    </tr>\n",
              "    <tr>\n",
              "      <th>1</th>\n",
              "      <td>7.0</td>\n",
              "      <td>450</td>\n",
              "      <td>31.0</td>\n",
              "      <td>Bad</td>\n",
              "    </tr>\n",
              "    <tr>\n",
              "      <th>2</th>\n",
              "      <td>6.5</td>\n",
              "      <td>320</td>\n",
              "      <td>30.0</td>\n",
              "      <td>Poor</td>\n",
              "    </tr>\n",
              "    <tr>\n",
              "      <th>3</th>\n",
              "      <td>6.8</td>\n",
              "      <td>400</td>\n",
              "      <td>31.0</td>\n",
              "      <td>Poor</td>\n",
              "    </tr>\n",
              "    <tr>\n",
              "      <th>4</th>\n",
              "      <td>8.0</td>\n",
              "      <td>700</td>\n",
              "      <td>32.0</td>\n",
              "      <td>Poor</td>\n",
              "    </tr>\n",
              "    <tr>\n",
              "      <th>...</th>\n",
              "      <td>...</td>\n",
              "      <td>...</td>\n",
              "      <td>...</td>\n",
              "      <td>...</td>\n",
              "    </tr>\n",
              "    <tr>\n",
              "      <th>625</th>\n",
              "      <td>6.7</td>\n",
              "      <td>942</td>\n",
              "      <td>31.0</td>\n",
              "      <td>Bad</td>\n",
              "    </tr>\n",
              "    <tr>\n",
              "      <th>626</th>\n",
              "      <td>9.0</td>\n",
              "      <td>544</td>\n",
              "      <td>30.0</td>\n",
              "      <td>Bad</td>\n",
              "    </tr>\n",
              "    <tr>\n",
              "      <th>627</th>\n",
              "      <td>7.6</td>\n",
              "      <td>986</td>\n",
              "      <td>30.0</td>\n",
              "      <td>Good</td>\n",
              "    </tr>\n",
              "    <tr>\n",
              "      <th>628</th>\n",
              "      <td>7.9</td>\n",
              "      <td>353</td>\n",
              "      <td>31.0</td>\n",
              "      <td>Good</td>\n",
              "    </tr>\n",
              "    <tr>\n",
              "      <th>629</th>\n",
              "      <td>8.0</td>\n",
              "      <td>584</td>\n",
              "      <td>29.0</td>\n",
              "      <td>Good</td>\n",
              "    </tr>\n",
              "  </tbody>\n",
              "</table>\n",
              "<p>630 rows × 4 columns</p>\n",
              "</div>\n",
              "      <button class=\"colab-df-convert\" onclick=\"convertToInteractive('df-3cd16995-35d0-44a7-a44d-a5435b0999a1')\"\n",
              "              title=\"Convert this dataframe to an interactive table.\"\n",
              "              style=\"display:none;\">\n",
              "        \n",
              "  <svg xmlns=\"http://www.w3.org/2000/svg\" height=\"24px\"viewBox=\"0 0 24 24\"\n",
              "       width=\"24px\">\n",
              "    <path d=\"M0 0h24v24H0V0z\" fill=\"none\"/>\n",
              "    <path d=\"M18.56 5.44l.94 2.06.94-2.06 2.06-.94-2.06-.94-.94-2.06-.94 2.06-2.06.94zm-11 1L8.5 8.5l.94-2.06 2.06-.94-2.06-.94L8.5 2.5l-.94 2.06-2.06.94zm10 10l.94 2.06.94-2.06 2.06-.94-2.06-.94-.94-2.06-.94 2.06-2.06.94z\"/><path d=\"M17.41 7.96l-1.37-1.37c-.4-.4-.92-.59-1.43-.59-.52 0-1.04.2-1.43.59L10.3 9.45l-7.72 7.72c-.78.78-.78 2.05 0 2.83L4 21.41c.39.39.9.59 1.41.59.51 0 1.02-.2 1.41-.59l7.78-7.78 2.81-2.81c.8-.78.8-2.07 0-2.86zM5.41 20L4 18.59l7.72-7.72 1.47 1.35L5.41 20z\"/>\n",
              "  </svg>\n",
              "      </button>\n",
              "      \n",
              "  <style>\n",
              "    .colab-df-container {\n",
              "      display:flex;\n",
              "      flex-wrap:wrap;\n",
              "      gap: 12px;\n",
              "    }\n",
              "\n",
              "    .colab-df-convert {\n",
              "      background-color: #E8F0FE;\n",
              "      border: none;\n",
              "      border-radius: 50%;\n",
              "      cursor: pointer;\n",
              "      display: none;\n",
              "      fill: #1967D2;\n",
              "      height: 32px;\n",
              "      padding: 0 0 0 0;\n",
              "      width: 32px;\n",
              "    }\n",
              "\n",
              "    .colab-df-convert:hover {\n",
              "      background-color: #E2EBFA;\n",
              "      box-shadow: 0px 1px 2px rgba(60, 64, 67, 0.3), 0px 1px 3px 1px rgba(60, 64, 67, 0.15);\n",
              "      fill: #174EA6;\n",
              "    }\n",
              "\n",
              "    [theme=dark] .colab-df-convert {\n",
              "      background-color: #3B4455;\n",
              "      fill: #D2E3FC;\n",
              "    }\n",
              "\n",
              "    [theme=dark] .colab-df-convert:hover {\n",
              "      background-color: #434B5C;\n",
              "      box-shadow: 0px 1px 3px 1px rgba(0, 0, 0, 0.15);\n",
              "      filter: drop-shadow(0px 1px 2px rgba(0, 0, 0, 0.3));\n",
              "      fill: #FFFFFF;\n",
              "    }\n",
              "  </style>\n",
              "\n",
              "      <script>\n",
              "        const buttonEl =\n",
              "          document.querySelector('#df-3cd16995-35d0-44a7-a44d-a5435b0999a1 button.colab-df-convert');\n",
              "        buttonEl.style.display =\n",
              "          google.colab.kernel.accessAllowed ? 'block' : 'none';\n",
              "\n",
              "        async function convertToInteractive(key) {\n",
              "          const element = document.querySelector('#df-3cd16995-35d0-44a7-a44d-a5435b0999a1');\n",
              "          const dataTable =\n",
              "            await google.colab.kernel.invokeFunction('convertToInteractive',\n",
              "                                                     [key], {});\n",
              "          if (!dataTable) return;\n",
              "\n",
              "          const docLinkHtml = 'Like what you see? Visit the ' +\n",
              "            '<a target=\"_blank\" href=https://colab.research.google.com/notebooks/data_table.ipynb>data table notebook</a>'\n",
              "            + ' to learn more about interactive tables.';\n",
              "          element.innerHTML = '';\n",
              "          dataTable['output_type'] = 'display_data';\n",
              "          await google.colab.output.renderOutput(dataTable, element);\n",
              "          const docLink = document.createElement('div');\n",
              "          docLink.innerHTML = docLinkHtml;\n",
              "          element.appendChild(docLink);\n",
              "        }\n",
              "      </script>\n",
              "    </div>\n",
              "  </div>\n",
              "  "
            ]
          },
          "metadata": {},
          "execution_count": 16
        }
      ]
    },
    {
      "cell_type": "code",
      "source": [
        "dataframe.to_excel(\"dataframe.xlsx\")"
      ],
      "metadata": {
        "id": "DpAA1e5jmCcg"
      },
      "execution_count": null,
      "outputs": []
    },
    {
      "cell_type": "markdown",
      "source": [
        "# Data Rescalling\n",
        "\n",
        "Setelah itu, agar angka pada tiap atribut/kolom masukan memiliki rentang nilai yang sama, maka perlu dilakukan penskalaan ulang (data rescaling) sehingga tidak terjadi bias pada model ketika dataset digunakan sebagai data training dan data testing. Berikut ini penulis melakukan data rescaling menggunakan MinMaxScaler yang akan membuat rentang nilai pada kolom yang diplih menjadi antara 0 hingga 1.\n",
        "\n"
      ],
      "metadata": {
        "id": "lv3M5WdFmQQY"
      }
    },
    {
      "cell_type": "code",
      "source": [
        "# panggil dataframe terbaru\n",
        "dataframe_new = pd.read_excel(\"/content/drive/MyDrive/dataframe.xlsx\")\n",
        "\n",
        "from sklearn.preprocessing import MinMaxScaler\n",
        "\n",
        "# mendefinisikan fungsi MinMaxScaler sebagai sebuah variabel\n",
        "scaler = MinMaxScaler()\n",
        "\n",
        "# buat daftar setiap atribut/kolom yang perlu dilakukan penskalaan ulang\n",
        "scaling_column = ['pH', 'TDS', 'suhu ']\n",
        "\n",
        "# terapkan fungsi fit_transform kepada atribut/kolom yang sudah dipilih\n",
        "dataframe_new[scaling_column] = scaler.fit_transform(dataframe_new[scaling_column])\n",
        "\n",
        "# mengecek nilai min dan max\n",
        "print(dataframe_new[scaling_column].describe().T[['min', 'max']])"
      ],
      "metadata": {
        "colab": {
          "base_uri": "https://localhost:8080/"
        },
        "id": "4TOWPqN7mX_J",
        "outputId": "151c32c0-611e-4cb9-ab07-2d9f91081e87"
      },
      "execution_count": null,
      "outputs": [
        {
          "output_type": "stream",
          "name": "stdout",
          "text": [
            "       min  max\n",
            "pH     0.0  1.0\n",
            "TDS    0.0  1.0\n",
            "suhu   0.0  1.0\n"
          ]
        }
      ]
    },
    {
      "cell_type": "code",
      "source": [
        "dataframe_new"
      ],
      "metadata": {
        "colab": {
          "base_uri": "https://localhost:8080/",
          "height": 424
        },
        "id": "w6y0Te7omf9q",
        "outputId": "6a4b249d-2472-43e4-916d-5c97980f2b1c"
      },
      "execution_count": null,
      "outputs": [
        {
          "output_type": "execute_result",
          "data": {
            "text/plain": [
              "     Unnamed: 0        pH       TDS  suhu  Kategori\n",
              "0             0  0.000000  0.000000  0.125      Bad\n",
              "1             1  0.333333  0.215208  0.500      Bad\n",
              "2             2  0.166667  0.028694  0.250     Poor\n",
              "3             3  0.266667  0.143472  0.500     Poor\n",
              "4             4  0.666667  0.573888  0.750     Poor\n",
              "..          ...       ...       ...    ...      ...\n",
              "625         625  0.233333  0.921090  0.500      Bad\n",
              "626         626  1.000000  0.350072  0.250      Bad\n",
              "627         627  0.533333  0.984218  0.250     Good\n",
              "628         628  0.633333  0.076040  0.500     Good\n",
              "629         629  0.666667  0.407461  0.000     Good\n",
              "\n",
              "[630 rows x 5 columns]"
            ],
            "text/html": [
              "\n",
              "  <div id=\"df-dbefc29e-5a24-46d0-a4a4-6c56228ac6e6\">\n",
              "    <div class=\"colab-df-container\">\n",
              "      <div>\n",
              "<style scoped>\n",
              "    .dataframe tbody tr th:only-of-type {\n",
              "        vertical-align: middle;\n",
              "    }\n",
              "\n",
              "    .dataframe tbody tr th {\n",
              "        vertical-align: top;\n",
              "    }\n",
              "\n",
              "    .dataframe thead th {\n",
              "        text-align: right;\n",
              "    }\n",
              "</style>\n",
              "<table border=\"1\" class=\"dataframe\">\n",
              "  <thead>\n",
              "    <tr style=\"text-align: right;\">\n",
              "      <th></th>\n",
              "      <th>Unnamed: 0</th>\n",
              "      <th>pH</th>\n",
              "      <th>TDS</th>\n",
              "      <th>suhu</th>\n",
              "      <th>Kategori</th>\n",
              "    </tr>\n",
              "  </thead>\n",
              "  <tbody>\n",
              "    <tr>\n",
              "      <th>0</th>\n",
              "      <td>0</td>\n",
              "      <td>0.000000</td>\n",
              "      <td>0.000000</td>\n",
              "      <td>0.125</td>\n",
              "      <td>Bad</td>\n",
              "    </tr>\n",
              "    <tr>\n",
              "      <th>1</th>\n",
              "      <td>1</td>\n",
              "      <td>0.333333</td>\n",
              "      <td>0.215208</td>\n",
              "      <td>0.500</td>\n",
              "      <td>Bad</td>\n",
              "    </tr>\n",
              "    <tr>\n",
              "      <th>2</th>\n",
              "      <td>2</td>\n",
              "      <td>0.166667</td>\n",
              "      <td>0.028694</td>\n",
              "      <td>0.250</td>\n",
              "      <td>Poor</td>\n",
              "    </tr>\n",
              "    <tr>\n",
              "      <th>3</th>\n",
              "      <td>3</td>\n",
              "      <td>0.266667</td>\n",
              "      <td>0.143472</td>\n",
              "      <td>0.500</td>\n",
              "      <td>Poor</td>\n",
              "    </tr>\n",
              "    <tr>\n",
              "      <th>4</th>\n",
              "      <td>4</td>\n",
              "      <td>0.666667</td>\n",
              "      <td>0.573888</td>\n",
              "      <td>0.750</td>\n",
              "      <td>Poor</td>\n",
              "    </tr>\n",
              "    <tr>\n",
              "      <th>...</th>\n",
              "      <td>...</td>\n",
              "      <td>...</td>\n",
              "      <td>...</td>\n",
              "      <td>...</td>\n",
              "      <td>...</td>\n",
              "    </tr>\n",
              "    <tr>\n",
              "      <th>625</th>\n",
              "      <td>625</td>\n",
              "      <td>0.233333</td>\n",
              "      <td>0.921090</td>\n",
              "      <td>0.500</td>\n",
              "      <td>Bad</td>\n",
              "    </tr>\n",
              "    <tr>\n",
              "      <th>626</th>\n",
              "      <td>626</td>\n",
              "      <td>1.000000</td>\n",
              "      <td>0.350072</td>\n",
              "      <td>0.250</td>\n",
              "      <td>Bad</td>\n",
              "    </tr>\n",
              "    <tr>\n",
              "      <th>627</th>\n",
              "      <td>627</td>\n",
              "      <td>0.533333</td>\n",
              "      <td>0.984218</td>\n",
              "      <td>0.250</td>\n",
              "      <td>Good</td>\n",
              "    </tr>\n",
              "    <tr>\n",
              "      <th>628</th>\n",
              "      <td>628</td>\n",
              "      <td>0.633333</td>\n",
              "      <td>0.076040</td>\n",
              "      <td>0.500</td>\n",
              "      <td>Good</td>\n",
              "    </tr>\n",
              "    <tr>\n",
              "      <th>629</th>\n",
              "      <td>629</td>\n",
              "      <td>0.666667</td>\n",
              "      <td>0.407461</td>\n",
              "      <td>0.000</td>\n",
              "      <td>Good</td>\n",
              "    </tr>\n",
              "  </tbody>\n",
              "</table>\n",
              "<p>630 rows × 5 columns</p>\n",
              "</div>\n",
              "      <button class=\"colab-df-convert\" onclick=\"convertToInteractive('df-dbefc29e-5a24-46d0-a4a4-6c56228ac6e6')\"\n",
              "              title=\"Convert this dataframe to an interactive table.\"\n",
              "              style=\"display:none;\">\n",
              "        \n",
              "  <svg xmlns=\"http://www.w3.org/2000/svg\" height=\"24px\"viewBox=\"0 0 24 24\"\n",
              "       width=\"24px\">\n",
              "    <path d=\"M0 0h24v24H0V0z\" fill=\"none\"/>\n",
              "    <path d=\"M18.56 5.44l.94 2.06.94-2.06 2.06-.94-2.06-.94-.94-2.06-.94 2.06-2.06.94zm-11 1L8.5 8.5l.94-2.06 2.06-.94-2.06-.94L8.5 2.5l-.94 2.06-2.06.94zm10 10l.94 2.06.94-2.06 2.06-.94-2.06-.94-.94-2.06-.94 2.06-2.06.94z\"/><path d=\"M17.41 7.96l-1.37-1.37c-.4-.4-.92-.59-1.43-.59-.52 0-1.04.2-1.43.59L10.3 9.45l-7.72 7.72c-.78.78-.78 2.05 0 2.83L4 21.41c.39.39.9.59 1.41.59.51 0 1.02-.2 1.41-.59l7.78-7.78 2.81-2.81c.8-.78.8-2.07 0-2.86zM5.41 20L4 18.59l7.72-7.72 1.47 1.35L5.41 20z\"/>\n",
              "  </svg>\n",
              "      </button>\n",
              "      \n",
              "  <style>\n",
              "    .colab-df-container {\n",
              "      display:flex;\n",
              "      flex-wrap:wrap;\n",
              "      gap: 12px;\n",
              "    }\n",
              "\n",
              "    .colab-df-convert {\n",
              "      background-color: #E8F0FE;\n",
              "      border: none;\n",
              "      border-radius: 50%;\n",
              "      cursor: pointer;\n",
              "      display: none;\n",
              "      fill: #1967D2;\n",
              "      height: 32px;\n",
              "      padding: 0 0 0 0;\n",
              "      width: 32px;\n",
              "    }\n",
              "\n",
              "    .colab-df-convert:hover {\n",
              "      background-color: #E2EBFA;\n",
              "      box-shadow: 0px 1px 2px rgba(60, 64, 67, 0.3), 0px 1px 3px 1px rgba(60, 64, 67, 0.15);\n",
              "      fill: #174EA6;\n",
              "    }\n",
              "\n",
              "    [theme=dark] .colab-df-convert {\n",
              "      background-color: #3B4455;\n",
              "      fill: #D2E3FC;\n",
              "    }\n",
              "\n",
              "    [theme=dark] .colab-df-convert:hover {\n",
              "      background-color: #434B5C;\n",
              "      box-shadow: 0px 1px 3px 1px rgba(0, 0, 0, 0.15);\n",
              "      filter: drop-shadow(0px 1px 2px rgba(0, 0, 0, 0.3));\n",
              "      fill: #FFFFFF;\n",
              "    }\n",
              "  </style>\n",
              "\n",
              "      <script>\n",
              "        const buttonEl =\n",
              "          document.querySelector('#df-dbefc29e-5a24-46d0-a4a4-6c56228ac6e6 button.colab-df-convert');\n",
              "        buttonEl.style.display =\n",
              "          google.colab.kernel.accessAllowed ? 'block' : 'none';\n",
              "\n",
              "        async function convertToInteractive(key) {\n",
              "          const element = document.querySelector('#df-dbefc29e-5a24-46d0-a4a4-6c56228ac6e6');\n",
              "          const dataTable =\n",
              "            await google.colab.kernel.invokeFunction('convertToInteractive',\n",
              "                                                     [key], {});\n",
              "          if (!dataTable) return;\n",
              "\n",
              "          const docLinkHtml = 'Like what you see? Visit the ' +\n",
              "            '<a target=\"_blank\" href=https://colab.research.google.com/notebooks/data_table.ipynb>data table notebook</a>'\n",
              "            + ' to learn more about interactive tables.';\n",
              "          element.innerHTML = '';\n",
              "          dataTable['output_type'] = 'display_data';\n",
              "          await google.colab.output.renderOutput(dataTable, element);\n",
              "          const docLink = document.createElement('div');\n",
              "          docLink.innerHTML = docLinkHtml;\n",
              "          element.appendChild(docLink);\n",
              "        }\n",
              "      </script>\n",
              "    </div>\n",
              "  </div>\n",
              "  "
            ]
          },
          "metadata": {},
          "execution_count": 19
        }
      ]
    },
    {
      "cell_type": "markdown",
      "source": [
        "# Data Label Encoding\n",
        "Setelah itu, dalam penggunaan library Scikit-Learn, dataset perlu dipisahkan ke dalam Features dan Label/Target. Variabel Feature menjadi terdiri dari variabel yang dideklarasikan sebagai X dan [categori] adalah variabel target yang dideklarasikan sebagai y."
      ],
      "metadata": {
        "id": "VCQ_A42xmpCt"
      }
    },
    {
      "cell_type": "code",
      "source": [
        "from sklearn.preprocessing import LabelEncoder\n",
        "LE = LabelEncoder()\n",
        "dataframe_new['Kategori'] = LE.fit_transform(dataframe_new['Kategori'])\n",
        "\n",
        "X = dataframe_new.drop(['Kategori'], axis = 1)\n",
        "y = dataframe_new['Kategori']\n",
        "\n",
        "print(\"Shape of X:\", X.shape)\n",
        "print(\"Shape of y:\", y.shape)"
      ],
      "metadata": {
        "colab": {
          "base_uri": "https://localhost:8080/"
        },
        "id": "Wj96QF7MmsoZ",
        "outputId": "4f085a89-2ed0-4287-bd4f-3b674e310e7c"
      },
      "execution_count": null,
      "outputs": [
        {
          "output_type": "stream",
          "name": "stdout",
          "text": [
            "Shape of X: (630, 4)\n",
            "Shape of y: (630,)\n"
          ]
        }
      ]
    },
    {
      "cell_type": "code",
      "source": [
        "dataframe_new"
      ],
      "metadata": {
        "colab": {
          "base_uri": "https://localhost:8080/",
          "height": 424
        },
        "id": "NBzfQJjtm7rU",
        "outputId": "57bf66ff-5ca7-40fa-c4b7-dc7cd7b4e713"
      },
      "execution_count": null,
      "outputs": [
        {
          "output_type": "execute_result",
          "data": {
            "text/plain": [
              "     Unnamed: 0        pH       TDS  suhu   Kategori\n",
              "0             0  0.000000  0.000000  0.125         0\n",
              "1             1  0.333333  0.215208  0.500         0\n",
              "2             2  0.166667  0.028694  0.250         2\n",
              "3             3  0.266667  0.143472  0.500         2\n",
              "4             4  0.666667  0.573888  0.750         2\n",
              "..          ...       ...       ...    ...       ...\n",
              "625         625  0.233333  0.921090  0.500         0\n",
              "626         626  1.000000  0.350072  0.250         0\n",
              "627         627  0.533333  0.984218  0.250         1\n",
              "628         628  0.633333  0.076040  0.500         1\n",
              "629         629  0.666667  0.407461  0.000         1\n",
              "\n",
              "[630 rows x 5 columns]"
            ],
            "text/html": [
              "\n",
              "  <div id=\"df-64b216f6-d032-4acc-8687-5581d5f3c242\">\n",
              "    <div class=\"colab-df-container\">\n",
              "      <div>\n",
              "<style scoped>\n",
              "    .dataframe tbody tr th:only-of-type {\n",
              "        vertical-align: middle;\n",
              "    }\n",
              "\n",
              "    .dataframe tbody tr th {\n",
              "        vertical-align: top;\n",
              "    }\n",
              "\n",
              "    .dataframe thead th {\n",
              "        text-align: right;\n",
              "    }\n",
              "</style>\n",
              "<table border=\"1\" class=\"dataframe\">\n",
              "  <thead>\n",
              "    <tr style=\"text-align: right;\">\n",
              "      <th></th>\n",
              "      <th>Unnamed: 0</th>\n",
              "      <th>pH</th>\n",
              "      <th>TDS</th>\n",
              "      <th>suhu</th>\n",
              "      <th>Kategori</th>\n",
              "    </tr>\n",
              "  </thead>\n",
              "  <tbody>\n",
              "    <tr>\n",
              "      <th>0</th>\n",
              "      <td>0</td>\n",
              "      <td>0.000000</td>\n",
              "      <td>0.000000</td>\n",
              "      <td>0.125</td>\n",
              "      <td>0</td>\n",
              "    </tr>\n",
              "    <tr>\n",
              "      <th>1</th>\n",
              "      <td>1</td>\n",
              "      <td>0.333333</td>\n",
              "      <td>0.215208</td>\n",
              "      <td>0.500</td>\n",
              "      <td>0</td>\n",
              "    </tr>\n",
              "    <tr>\n",
              "      <th>2</th>\n",
              "      <td>2</td>\n",
              "      <td>0.166667</td>\n",
              "      <td>0.028694</td>\n",
              "      <td>0.250</td>\n",
              "      <td>2</td>\n",
              "    </tr>\n",
              "    <tr>\n",
              "      <th>3</th>\n",
              "      <td>3</td>\n",
              "      <td>0.266667</td>\n",
              "      <td>0.143472</td>\n",
              "      <td>0.500</td>\n",
              "      <td>2</td>\n",
              "    </tr>\n",
              "    <tr>\n",
              "      <th>4</th>\n",
              "      <td>4</td>\n",
              "      <td>0.666667</td>\n",
              "      <td>0.573888</td>\n",
              "      <td>0.750</td>\n",
              "      <td>2</td>\n",
              "    </tr>\n",
              "    <tr>\n",
              "      <th>...</th>\n",
              "      <td>...</td>\n",
              "      <td>...</td>\n",
              "      <td>...</td>\n",
              "      <td>...</td>\n",
              "      <td>...</td>\n",
              "    </tr>\n",
              "    <tr>\n",
              "      <th>625</th>\n",
              "      <td>625</td>\n",
              "      <td>0.233333</td>\n",
              "      <td>0.921090</td>\n",
              "      <td>0.500</td>\n",
              "      <td>0</td>\n",
              "    </tr>\n",
              "    <tr>\n",
              "      <th>626</th>\n",
              "      <td>626</td>\n",
              "      <td>1.000000</td>\n",
              "      <td>0.350072</td>\n",
              "      <td>0.250</td>\n",
              "      <td>0</td>\n",
              "    </tr>\n",
              "    <tr>\n",
              "      <th>627</th>\n",
              "      <td>627</td>\n",
              "      <td>0.533333</td>\n",
              "      <td>0.984218</td>\n",
              "      <td>0.250</td>\n",
              "      <td>1</td>\n",
              "    </tr>\n",
              "    <tr>\n",
              "      <th>628</th>\n",
              "      <td>628</td>\n",
              "      <td>0.633333</td>\n",
              "      <td>0.076040</td>\n",
              "      <td>0.500</td>\n",
              "      <td>1</td>\n",
              "    </tr>\n",
              "    <tr>\n",
              "      <th>629</th>\n",
              "      <td>629</td>\n",
              "      <td>0.666667</td>\n",
              "      <td>0.407461</td>\n",
              "      <td>0.000</td>\n",
              "      <td>1</td>\n",
              "    </tr>\n",
              "  </tbody>\n",
              "</table>\n",
              "<p>630 rows × 5 columns</p>\n",
              "</div>\n",
              "      <button class=\"colab-df-convert\" onclick=\"convertToInteractive('df-64b216f6-d032-4acc-8687-5581d5f3c242')\"\n",
              "              title=\"Convert this dataframe to an interactive table.\"\n",
              "              style=\"display:none;\">\n",
              "        \n",
              "  <svg xmlns=\"http://www.w3.org/2000/svg\" height=\"24px\"viewBox=\"0 0 24 24\"\n",
              "       width=\"24px\">\n",
              "    <path d=\"M0 0h24v24H0V0z\" fill=\"none\"/>\n",
              "    <path d=\"M18.56 5.44l.94 2.06.94-2.06 2.06-.94-2.06-.94-.94-2.06-.94 2.06-2.06.94zm-11 1L8.5 8.5l.94-2.06 2.06-.94-2.06-.94L8.5 2.5l-.94 2.06-2.06.94zm10 10l.94 2.06.94-2.06 2.06-.94-2.06-.94-.94-2.06-.94 2.06-2.06.94z\"/><path d=\"M17.41 7.96l-1.37-1.37c-.4-.4-.92-.59-1.43-.59-.52 0-1.04.2-1.43.59L10.3 9.45l-7.72 7.72c-.78.78-.78 2.05 0 2.83L4 21.41c.39.39.9.59 1.41.59.51 0 1.02-.2 1.41-.59l7.78-7.78 2.81-2.81c.8-.78.8-2.07 0-2.86zM5.41 20L4 18.59l7.72-7.72 1.47 1.35L5.41 20z\"/>\n",
              "  </svg>\n",
              "      </button>\n",
              "      \n",
              "  <style>\n",
              "    .colab-df-container {\n",
              "      display:flex;\n",
              "      flex-wrap:wrap;\n",
              "      gap: 12px;\n",
              "    }\n",
              "\n",
              "    .colab-df-convert {\n",
              "      background-color: #E8F0FE;\n",
              "      border: none;\n",
              "      border-radius: 50%;\n",
              "      cursor: pointer;\n",
              "      display: none;\n",
              "      fill: #1967D2;\n",
              "      height: 32px;\n",
              "      padding: 0 0 0 0;\n",
              "      width: 32px;\n",
              "    }\n",
              "\n",
              "    .colab-df-convert:hover {\n",
              "      background-color: #E2EBFA;\n",
              "      box-shadow: 0px 1px 2px rgba(60, 64, 67, 0.3), 0px 1px 3px 1px rgba(60, 64, 67, 0.15);\n",
              "      fill: #174EA6;\n",
              "    }\n",
              "\n",
              "    [theme=dark] .colab-df-convert {\n",
              "      background-color: #3B4455;\n",
              "      fill: #D2E3FC;\n",
              "    }\n",
              "\n",
              "    [theme=dark] .colab-df-convert:hover {\n",
              "      background-color: #434B5C;\n",
              "      box-shadow: 0px 1px 3px 1px rgba(0, 0, 0, 0.15);\n",
              "      filter: drop-shadow(0px 1px 2px rgba(0, 0, 0, 0.3));\n",
              "      fill: #FFFFFF;\n",
              "    }\n",
              "  </style>\n",
              "\n",
              "      <script>\n",
              "        const buttonEl =\n",
              "          document.querySelector('#df-64b216f6-d032-4acc-8687-5581d5f3c242 button.colab-df-convert');\n",
              "        buttonEl.style.display =\n",
              "          google.colab.kernel.accessAllowed ? 'block' : 'none';\n",
              "\n",
              "        async function convertToInteractive(key) {\n",
              "          const element = document.querySelector('#df-64b216f6-d032-4acc-8687-5581d5f3c242');\n",
              "          const dataTable =\n",
              "            await google.colab.kernel.invokeFunction('convertToInteractive',\n",
              "                                                     [key], {});\n",
              "          if (!dataTable) return;\n",
              "\n",
              "          const docLinkHtml = 'Like what you see? Visit the ' +\n",
              "            '<a target=\"_blank\" href=https://colab.research.google.com/notebooks/data_table.ipynb>data table notebook</a>'\n",
              "            + ' to learn more about interactive tables.';\n",
              "          element.innerHTML = '';\n",
              "          dataTable['output_type'] = 'display_data';\n",
              "          await google.colab.output.renderOutput(dataTable, element);\n",
              "          const docLink = document.createElement('div');\n",
              "          docLink.innerHTML = docLinkHtml;\n",
              "          element.appendChild(docLink);\n",
              "        }\n",
              "      </script>\n",
              "    </div>\n",
              "  </div>\n",
              "  "
            ]
          },
          "metadata": {},
          "execution_count": 21
        }
      ]
    },
    {
      "cell_type": "markdown",
      "source": [
        "Kemudian, dataset tersebut, yang sudah selesai dibersihkan dengan beberapa tahapan, diekspor ke dalam file Excel untuk diproses ke tahapan selanjutnya."
      ],
      "metadata": {
        "id": "pgWTye4ym_p5"
      }
    },
    {
      "cell_type": "code",
      "source": [
        "dataframe_new.to_excel(\"dataframe_afterscaling.xlsx\")"
      ],
      "metadata": {
        "id": "RzymHk51nAKy"
      },
      "execution_count": null,
      "outputs": []
    },
    {
      "cell_type": "markdown",
      "source": [
        "#Data Transformation"
      ],
      "metadata": {
        "id": "kU-Rg95InLoy"
      }
    },
    {
      "cell_type": "code",
      "source": [
        "# panggil dataframe terbaru\n",
        "dataframe_new_2 = pd.read_excel(\"/content/drive/MyDrive/dataframe_afterscaling.xlsx\")\n",
        "dataframe_new_2 = dataframe_new_2.drop(['Unnamed: 0'], axis=1)\n"
      ],
      "metadata": {
        "id": "F_vIqBhznFqy"
      },
      "execution_count": null,
      "outputs": []
    },
    {
      "cell_type": "code",
      "source": [
        "dataframe_new_2 = dataframe_new_2.drop(['Unnamed: 0.1'], axis=1)\n",
        "dataframe_new_2"
      ],
      "metadata": {
        "colab": {
          "base_uri": "https://localhost:8080/",
          "height": 424
        },
        "id": "JAvPtK3DnOvP",
        "outputId": "c39a9bba-7d5c-48f8-a0a9-7f083529c10b"
      },
      "execution_count": null,
      "outputs": [
        {
          "output_type": "execute_result",
          "data": {
            "text/plain": [
              "           pH       TDS  suhu   Kategori\n",
              "0    0.000000  0.000000  0.125         0\n",
              "1    0.333333  0.215208  0.500         0\n",
              "2    0.166667  0.028694  0.250         2\n",
              "3    0.266667  0.143472  0.500         2\n",
              "4    0.666667  0.573888  0.750         2\n",
              "..        ...       ...    ...       ...\n",
              "625  0.233333  0.921090  0.500         0\n",
              "626  1.000000  0.350072  0.250         0\n",
              "627  0.533333  0.984218  0.250         1\n",
              "628  0.633333  0.076040  0.500         1\n",
              "629  0.666667  0.407461  0.000         1\n",
              "\n",
              "[630 rows x 4 columns]"
            ],
            "text/html": [
              "\n",
              "  <div id=\"df-6b85de4c-edbf-43e5-9022-89189b0e505e\">\n",
              "    <div class=\"colab-df-container\">\n",
              "      <div>\n",
              "<style scoped>\n",
              "    .dataframe tbody tr th:only-of-type {\n",
              "        vertical-align: middle;\n",
              "    }\n",
              "\n",
              "    .dataframe tbody tr th {\n",
              "        vertical-align: top;\n",
              "    }\n",
              "\n",
              "    .dataframe thead th {\n",
              "        text-align: right;\n",
              "    }\n",
              "</style>\n",
              "<table border=\"1\" class=\"dataframe\">\n",
              "  <thead>\n",
              "    <tr style=\"text-align: right;\">\n",
              "      <th></th>\n",
              "      <th>pH</th>\n",
              "      <th>TDS</th>\n",
              "      <th>suhu</th>\n",
              "      <th>Kategori</th>\n",
              "    </tr>\n",
              "  </thead>\n",
              "  <tbody>\n",
              "    <tr>\n",
              "      <th>0</th>\n",
              "      <td>0.000000</td>\n",
              "      <td>0.000000</td>\n",
              "      <td>0.125</td>\n",
              "      <td>0</td>\n",
              "    </tr>\n",
              "    <tr>\n",
              "      <th>1</th>\n",
              "      <td>0.333333</td>\n",
              "      <td>0.215208</td>\n",
              "      <td>0.500</td>\n",
              "      <td>0</td>\n",
              "    </tr>\n",
              "    <tr>\n",
              "      <th>2</th>\n",
              "      <td>0.166667</td>\n",
              "      <td>0.028694</td>\n",
              "      <td>0.250</td>\n",
              "      <td>2</td>\n",
              "    </tr>\n",
              "    <tr>\n",
              "      <th>3</th>\n",
              "      <td>0.266667</td>\n",
              "      <td>0.143472</td>\n",
              "      <td>0.500</td>\n",
              "      <td>2</td>\n",
              "    </tr>\n",
              "    <tr>\n",
              "      <th>4</th>\n",
              "      <td>0.666667</td>\n",
              "      <td>0.573888</td>\n",
              "      <td>0.750</td>\n",
              "      <td>2</td>\n",
              "    </tr>\n",
              "    <tr>\n",
              "      <th>...</th>\n",
              "      <td>...</td>\n",
              "      <td>...</td>\n",
              "      <td>...</td>\n",
              "      <td>...</td>\n",
              "    </tr>\n",
              "    <tr>\n",
              "      <th>625</th>\n",
              "      <td>0.233333</td>\n",
              "      <td>0.921090</td>\n",
              "      <td>0.500</td>\n",
              "      <td>0</td>\n",
              "    </tr>\n",
              "    <tr>\n",
              "      <th>626</th>\n",
              "      <td>1.000000</td>\n",
              "      <td>0.350072</td>\n",
              "      <td>0.250</td>\n",
              "      <td>0</td>\n",
              "    </tr>\n",
              "    <tr>\n",
              "      <th>627</th>\n",
              "      <td>0.533333</td>\n",
              "      <td>0.984218</td>\n",
              "      <td>0.250</td>\n",
              "      <td>1</td>\n",
              "    </tr>\n",
              "    <tr>\n",
              "      <th>628</th>\n",
              "      <td>0.633333</td>\n",
              "      <td>0.076040</td>\n",
              "      <td>0.500</td>\n",
              "      <td>1</td>\n",
              "    </tr>\n",
              "    <tr>\n",
              "      <th>629</th>\n",
              "      <td>0.666667</td>\n",
              "      <td>0.407461</td>\n",
              "      <td>0.000</td>\n",
              "      <td>1</td>\n",
              "    </tr>\n",
              "  </tbody>\n",
              "</table>\n",
              "<p>630 rows × 4 columns</p>\n",
              "</div>\n",
              "      <button class=\"colab-df-convert\" onclick=\"convertToInteractive('df-6b85de4c-edbf-43e5-9022-89189b0e505e')\"\n",
              "              title=\"Convert this dataframe to an interactive table.\"\n",
              "              style=\"display:none;\">\n",
              "        \n",
              "  <svg xmlns=\"http://www.w3.org/2000/svg\" height=\"24px\"viewBox=\"0 0 24 24\"\n",
              "       width=\"24px\">\n",
              "    <path d=\"M0 0h24v24H0V0z\" fill=\"none\"/>\n",
              "    <path d=\"M18.56 5.44l.94 2.06.94-2.06 2.06-.94-2.06-.94-.94-2.06-.94 2.06-2.06.94zm-11 1L8.5 8.5l.94-2.06 2.06-.94-2.06-.94L8.5 2.5l-.94 2.06-2.06.94zm10 10l.94 2.06.94-2.06 2.06-.94-2.06-.94-.94-2.06-.94 2.06-2.06.94z\"/><path d=\"M17.41 7.96l-1.37-1.37c-.4-.4-.92-.59-1.43-.59-.52 0-1.04.2-1.43.59L10.3 9.45l-7.72 7.72c-.78.78-.78 2.05 0 2.83L4 21.41c.39.39.9.59 1.41.59.51 0 1.02-.2 1.41-.59l7.78-7.78 2.81-2.81c.8-.78.8-2.07 0-2.86zM5.41 20L4 18.59l7.72-7.72 1.47 1.35L5.41 20z\"/>\n",
              "  </svg>\n",
              "      </button>\n",
              "      \n",
              "  <style>\n",
              "    .colab-df-container {\n",
              "      display:flex;\n",
              "      flex-wrap:wrap;\n",
              "      gap: 12px;\n",
              "    }\n",
              "\n",
              "    .colab-df-convert {\n",
              "      background-color: #E8F0FE;\n",
              "      border: none;\n",
              "      border-radius: 50%;\n",
              "      cursor: pointer;\n",
              "      display: none;\n",
              "      fill: #1967D2;\n",
              "      height: 32px;\n",
              "      padding: 0 0 0 0;\n",
              "      width: 32px;\n",
              "    }\n",
              "\n",
              "    .colab-df-convert:hover {\n",
              "      background-color: #E2EBFA;\n",
              "      box-shadow: 0px 1px 2px rgba(60, 64, 67, 0.3), 0px 1px 3px 1px rgba(60, 64, 67, 0.15);\n",
              "      fill: #174EA6;\n",
              "    }\n",
              "\n",
              "    [theme=dark] .colab-df-convert {\n",
              "      background-color: #3B4455;\n",
              "      fill: #D2E3FC;\n",
              "    }\n",
              "\n",
              "    [theme=dark] .colab-df-convert:hover {\n",
              "      background-color: #434B5C;\n",
              "      box-shadow: 0px 1px 3px 1px rgba(0, 0, 0, 0.15);\n",
              "      filter: drop-shadow(0px 1px 2px rgba(0, 0, 0, 0.3));\n",
              "      fill: #FFFFFF;\n",
              "    }\n",
              "  </style>\n",
              "\n",
              "      <script>\n",
              "        const buttonEl =\n",
              "          document.querySelector('#df-6b85de4c-edbf-43e5-9022-89189b0e505e button.colab-df-convert');\n",
              "        buttonEl.style.display =\n",
              "          google.colab.kernel.accessAllowed ? 'block' : 'none';\n",
              "\n",
              "        async function convertToInteractive(key) {\n",
              "          const element = document.querySelector('#df-6b85de4c-edbf-43e5-9022-89189b0e505e');\n",
              "          const dataTable =\n",
              "            await google.colab.kernel.invokeFunction('convertToInteractive',\n",
              "                                                     [key], {});\n",
              "          if (!dataTable) return;\n",
              "\n",
              "          const docLinkHtml = 'Like what you see? Visit the ' +\n",
              "            '<a target=\"_blank\" href=https://colab.research.google.com/notebooks/data_table.ipynb>data table notebook</a>'\n",
              "            + ' to learn more about interactive tables.';\n",
              "          element.innerHTML = '';\n",
              "          dataTable['output_type'] = 'display_data';\n",
              "          await google.colab.output.renderOutput(dataTable, element);\n",
              "          const docLink = document.createElement('div');\n",
              "          docLink.innerHTML = docLinkHtml;\n",
              "          element.appendChild(docLink);\n",
              "        }\n",
              "      </script>\n",
              "    </div>\n",
              "  </div>\n",
              "  "
            ]
          },
          "metadata": {},
          "execution_count": 24
        }
      ]
    },
    {
      "cell_type": "code",
      "source": [
        "dataframe_new_2.info()"
      ],
      "metadata": {
        "colab": {
          "base_uri": "https://localhost:8080/"
        },
        "id": "1MXl8mqmnVRr",
        "outputId": "978c6719-d2c0-4ccb-aea2-b950b6400105"
      },
      "execution_count": null,
      "outputs": [
        {
          "output_type": "stream",
          "name": "stdout",
          "text": [
            "<class 'pandas.core.frame.DataFrame'>\n",
            "RangeIndex: 630 entries, 0 to 629\n",
            "Data columns (total 4 columns):\n",
            " #   Column    Non-Null Count  Dtype  \n",
            "---  ------    --------------  -----  \n",
            " 0   pH        630 non-null    float64\n",
            " 1   TDS       630 non-null    float64\n",
            " 2   suhu      630 non-null    float64\n",
            " 3   Kategori  630 non-null    int64  \n",
            "dtypes: float64(3), int64(1)\n",
            "memory usage: 19.8 KB\n"
          ]
        }
      ]
    },
    {
      "cell_type": "code",
      "source": [
        "dataframe_new_2.to_excel(\"dataframe_aftertrans.xlsx\")"
      ],
      "metadata": {
        "id": "w_4GF7bB7Jz3"
      },
      "execution_count": null,
      "outputs": []
    },
    {
      "cell_type": "markdown",
      "source": [
        "# **Penerapan Algoritma C4.5**\n",
        "\n",
        "\n",
        "Dari total 630 dataset, penulis menggunakan 420 dataset awal sebagai data training dan sisanya sebagai data testing. Dengan begitu, ukuran pembagian dari data training adalah (420/630)*1 = 0.666 dan data testing adalah 1- 0.666= 0.334\n"
      ],
      "metadata": {
        "id": "edGq2qZNn6Iy"
      }
    },
    {
      "cell_type": "code",
      "source": [
        "import pandas as pd\n",
        "tambak_new = pd.read_excel(\"/content/drive/MyDrive/dataframe_aftertrans.xlsx\")"
      ],
      "metadata": {
        "id": "J089XpkK9SJy"
      },
      "execution_count": null,
      "outputs": []
    },
    {
      "cell_type": "code",
      "source": [
        "# melihat informasi dari dataset\n",
        "tambak_new.info()"
      ],
      "metadata": {
        "colab": {
          "base_uri": "https://localhost:8080/"
        },
        "id": "82oM1gDu9vhr",
        "outputId": "4e95bc61-091f-4a08-a532-5e655adeec3d"
      },
      "execution_count": null,
      "outputs": [
        {
          "output_type": "stream",
          "name": "stdout",
          "text": [
            "<class 'pandas.core.frame.DataFrame'>\n",
            "RangeIndex: 630 entries, 0 to 629\n",
            "Data columns (total 5 columns):\n",
            " #   Column      Non-Null Count  Dtype  \n",
            "---  ------      --------------  -----  \n",
            " 0   Unnamed: 0  630 non-null    int64  \n",
            " 1   pH          630 non-null    float64\n",
            " 2   TDS         630 non-null    float64\n",
            " 3   suhu        630 non-null    float64\n",
            " 4   Kategori    630 non-null    int64  \n",
            "dtypes: float64(3), int64(2)\n",
            "memory usage: 24.7 KB\n"
          ]
        }
      ]
    },
    {
      "cell_type": "code",
      "source": [
        "tambak_new = tambak_new.drop(['Unnamed: 0'], axis=1)"
      ],
      "metadata": {
        "id": "nq18_YR1-Sj7"
      },
      "execution_count": null,
      "outputs": []
    },
    {
      "cell_type": "code",
      "source": [
        "tambak_new.info()"
      ],
      "metadata": {
        "colab": {
          "base_uri": "https://localhost:8080/"
        },
        "id": "VQ6YXzSR-YGZ",
        "outputId": "eb4ca0de-9c6d-4709-96ef-4f9ba6d9b7a5"
      },
      "execution_count": null,
      "outputs": [
        {
          "output_type": "stream",
          "name": "stdout",
          "text": [
            "<class 'pandas.core.frame.DataFrame'>\n",
            "RangeIndex: 630 entries, 0 to 629\n",
            "Data columns (total 4 columns):\n",
            " #   Column    Non-Null Count  Dtype  \n",
            "---  ------    --------------  -----  \n",
            " 0   pH        630 non-null    float64\n",
            " 1   TDS       630 non-null    float64\n",
            " 2   suhu      630 non-null    float64\n",
            " 3   Kategori  630 non-null    int64  \n",
            "dtypes: float64(3), int64(1)\n",
            "memory usage: 19.8 KB\n"
          ]
        }
      ]
    },
    {
      "cell_type": "markdown",
      "source": [
        "# Model Developing"
      ],
      "metadata": {
        "id": "ieQuNW5z9_-V"
      }
    },
    {
      "cell_type": "code",
      "source": [
        "from sklearn.model_selection import train_test_split\n",
        "\n",
        "# mendefinisikan 2 variabel yang digunakan untuk splitting dataset\n",
        "X_tambak = tambak_new.iloc[:, :-1]\n",
        "y_tambak = tambak_new['Kategori']\n",
        "\n",
        "# penggunaan fungsi train_test_split dalam splitting dataset\n",
        "X_train_tambak, X_test_tambak, y_train_tambak, y_test_tambak = train_test_split(X_tambak, y_tambak, test_size=0.2, shuffle=False)"
      ],
      "metadata": {
        "id": "H2cTL7ve-BTH"
      },
      "execution_count": null,
      "outputs": []
    },
    {
      "cell_type": "code",
      "source": [
        "\n",
        "from sklearn.tree import DecisionTreeClassifier\n",
        "model = DecisionTreeClassifier(criterion=\"entropy\", max_depth = 7, random_state=42)\n",
        "model.fit(X_train_tambak, y_train_tambak)\n",
        "list_of_features = ['pH','TDS','suhu ']\n",
        "list_of_classes = ['Bad','Good','Poor','Very Bad']"
      ],
      "metadata": {
        "id": "kGLdqhtb-c9l"
      },
      "execution_count": null,
      "outputs": []
    },
    {
      "cell_type": "code",
      "source": [
        "import matplotlib.pyplot as plt\n",
        "from sklearn.tree import plot_tree, export_text\n",
        "\n",
        "plt.figure(figsize=(30, 15))\n",
        "plot_tree(model, feature_names=list_of_features, class_names=list_of_classes, filled=True)"
      ],
      "metadata": {
        "colab": {
          "base_uri": "https://localhost:8080/",
          "height": 1000
        },
        "id": "6_ztsMKS-nO1",
        "outputId": "228c8538-a87b-47dd-941e-539ee3b14ec0"
      },
      "execution_count": null,
      "outputs": [
        {
          "output_type": "execute_result",
          "data": {
            "text/plain": [
              "[Text(0.47400442477876104, 0.9375, 'pH <= 0.25\\nentropy = 1.87\\nsamples = 504\\nvalue = [151, 150, 160, 43]\\nclass = Poor'),\n",
              " Text(0.19469026548672566, 0.8125, 'TDS <= 0.508\\nentropy = 1.013\\nsamples = 112\\nvalue = [86, 0, 12, 14]\\nclass = Bad'),\n",
              " Text(0.12389380530973451, 0.6875, 'pH <= 0.117\\nentropy = 0.548\\nsamples = 79\\nvalue = [69, 0, 10, 0]\\nclass = Bad'),\n",
              " Text(0.08849557522123894, 0.5625, 'TDS <= 0.033\\nentropy = 0.201\\nsamples = 64\\nvalue = [62, 0, 2, 0]\\nclass = Bad'),\n",
              " Text(0.07079646017699115, 0.4375, 'TDS <= 0.02\\nentropy = 0.619\\nsamples = 13\\nvalue = [11, 0, 2, 0]\\nclass = Bad'),\n",
              " Text(0.05309734513274336, 0.3125, 'TDS <= 0.006\\nentropy = 0.414\\nsamples = 12\\nvalue = [11, 0, 1, 0]\\nclass = Bad'),\n",
              " Text(0.035398230088495575, 0.1875, 'suhu  <= 0.188\\nentropy = 0.722\\nsamples = 5\\nvalue = [4, 0, 1, 0]\\nclass = Bad'),\n",
              " Text(0.017699115044247787, 0.0625, 'entropy = 0.0\\nsamples = 4\\nvalue = [4, 0, 0, 0]\\nclass = Bad'),\n",
              " Text(0.05309734513274336, 0.0625, 'entropy = 0.0\\nsamples = 1\\nvalue = [0, 0, 1, 0]\\nclass = Poor'),\n",
              " Text(0.07079646017699115, 0.1875, 'entropy = 0.0\\nsamples = 7\\nvalue = [7, 0, 0, 0]\\nclass = Bad'),\n",
              " Text(0.08849557522123894, 0.3125, 'entropy = 0.0\\nsamples = 1\\nvalue = [0, 0, 1, 0]\\nclass = Poor'),\n",
              " Text(0.10619469026548672, 0.4375, 'entropy = 0.0\\nsamples = 51\\nvalue = [51, 0, 0, 0]\\nclass = Bad'),\n",
              " Text(0.1592920353982301, 0.5625, 'suhu  <= 0.375\\nentropy = 0.997\\nsamples = 15\\nvalue = [7, 0, 8, 0]\\nclass = Poor'),\n",
              " Text(0.1415929203539823, 0.4375, 'entropy = 0.0\\nsamples = 8\\nvalue = [0, 0, 8, 0]\\nclass = Poor'),\n",
              " Text(0.17699115044247787, 0.4375, 'entropy = 0.0\\nsamples = 7\\nvalue = [7, 0, 0, 0]\\nclass = Bad'),\n",
              " Text(0.26548672566371684, 0.6875, 'pH <= 0.083\\nentropy = 1.263\\nsamples = 33\\nvalue = [17, 0, 2, 14]\\nclass = Bad'),\n",
              " Text(0.23008849557522124, 0.5625, 'suhu  <= 0.25\\nentropy = 0.353\\nsamples = 15\\nvalue = [1, 0, 0, 14]\\nclass = Very Bad'),\n",
              " Text(0.21238938053097345, 0.4375, 'entropy = 0.0\\nsamples = 1\\nvalue = [1, 0, 0, 0]\\nclass = Bad'),\n",
              " Text(0.24778761061946902, 0.4375, 'entropy = 0.0\\nsamples = 14\\nvalue = [0, 0, 0, 14]\\nclass = Very Bad'),\n",
              " Text(0.3008849557522124, 0.5625, 'suhu  <= 0.125\\nentropy = 0.503\\nsamples = 18\\nvalue = [16, 0, 2, 0]\\nclass = Bad'),\n",
              " Text(0.2831858407079646, 0.4375, 'entropy = 0.0\\nsamples = 2\\nvalue = [0, 0, 2, 0]\\nclass = Poor'),\n",
              " Text(0.3185840707964602, 0.4375, 'entropy = 0.0\\nsamples = 16\\nvalue = [16, 0, 0, 0]\\nclass = Bad'),\n",
              " Text(0.7533185840707964, 0.8125, 'pH <= 0.817\\nentropy = 1.769\\nsamples = 392\\nvalue = [65, 150, 148, 29]\\nclass = Good'),\n",
              " Text(0.5862831858407079, 0.6875, 'TDS <= 0.485\\nentropy = 1.062\\nsamples = 263\\nvalue = [3, 150, 110, 0]\\nclass = Good'),\n",
              " Text(0.43805309734513276, 0.5625, 'TDS <= 0.181\\nentropy = 0.822\\nsamples = 160\\nvalue = [1, 123, 36, 0]\\nclass = Good'),\n",
              " Text(0.35398230088495575, 0.4375, 'TDS <= 0.108\\nentropy = 1.0\\nsamples = 67\\nvalue = [0, 34, 33, 0]\\nclass = Good'),\n",
              " Text(0.30973451327433627, 0.3125, 'pH <= 0.75\\nentropy = 0.222\\nsamples = 28\\nvalue = [0, 27, 1, 0]\\nclass = Good'),\n",
              " Text(0.2920353982300885, 0.1875, 'entropy = 0.0\\nsamples = 27\\nvalue = [0, 27, 0, 0]\\nclass = Good'),\n",
              " Text(0.3274336283185841, 0.1875, 'entropy = 0.0\\nsamples = 1\\nvalue = [0, 0, 1, 0]\\nclass = Poor'),\n",
              " Text(0.39823008849557523, 0.3125, 'suhu  <= 0.375\\nentropy = 0.679\\nsamples = 39\\nvalue = [0, 7, 32, 0]\\nclass = Poor'),\n",
              " Text(0.36283185840707965, 0.1875, 'pH <= 0.633\\nentropy = 0.918\\nsamples = 9\\nvalue = [0, 6, 3, 0]\\nclass = Good'),\n",
              " Text(0.34513274336283184, 0.0625, 'entropy = 0.811\\nsamples = 8\\nvalue = [0, 6, 2, 0]\\nclass = Good'),\n",
              " Text(0.3805309734513274, 0.0625, 'entropy = 0.0\\nsamples = 1\\nvalue = [0, 0, 1, 0]\\nclass = Poor'),\n",
              " Text(0.4336283185840708, 0.1875, 'TDS <= 0.15\\nentropy = 0.211\\nsamples = 30\\nvalue = [0, 1, 29, 0]\\nclass = Poor'),\n",
              " Text(0.415929203539823, 0.0625, 'entropy = 0.0\\nsamples = 24\\nvalue = [0, 0, 24, 0]\\nclass = Poor'),\n",
              " Text(0.45132743362831856, 0.0625, 'entropy = 0.65\\nsamples = 6\\nvalue = [0, 1, 5, 0]\\nclass = Poor'),\n",
              " Text(0.5221238938053098, 0.4375, 'pH <= 0.3\\nentropy = 0.291\\nsamples = 93\\nvalue = [1, 89, 3, 0]\\nclass = Good'),\n",
              " Text(0.504424778761062, 0.3125, 'entropy = 0.0\\nsamples = 1\\nvalue = [0, 0, 1, 0]\\nclass = Poor'),\n",
              " Text(0.5398230088495575, 0.3125, 'pH <= 0.7\\nentropy = 0.237\\nsamples = 92\\nvalue = [1, 89, 2, 0]\\nclass = Good'),\n",
              " Text(0.504424778761062, 0.1875, 'TDS <= 0.449\\nentropy = 0.176\\nsamples = 90\\nvalue = [1, 88, 1, 0]\\nclass = Good'),\n",
              " Text(0.48672566371681414, 0.0625, 'entropy = 0.095\\nsamples = 82\\nvalue = [1, 81, 0, 0]\\nclass = Good'),\n",
              " Text(0.5221238938053098, 0.0625, 'entropy = 0.544\\nsamples = 8\\nvalue = [0, 7, 1, 0]\\nclass = Good'),\n",
              " Text(0.5752212389380531, 0.1875, 'TDS <= 0.252\\nentropy = 1.0\\nsamples = 2\\nvalue = [0, 1, 1, 0]\\nclass = Good'),\n",
              " Text(0.5575221238938053, 0.0625, 'entropy = 0.0\\nsamples = 1\\nvalue = [0, 1, 0, 0]\\nclass = Good'),\n",
              " Text(0.5929203539823009, 0.0625, 'entropy = 0.0\\nsamples = 1\\nvalue = [0, 0, 1, 0]\\nclass = Poor'),\n",
              " Text(0.7345132743362832, 0.5625, 'suhu  <= 0.375\\nentropy = 0.959\\nsamples = 103\\nvalue = [2, 27, 74, 0]\\nclass = Poor'),\n",
              " Text(0.6991150442477876, 0.4375, 'pH <= 0.683\\nentropy = 1.099\\nsamples = 59\\nvalue = [1, 26, 32, 0]\\nclass = Poor'),\n",
              " Text(0.6814159292035398, 0.3125, 'pH <= 0.317\\nentropy = 1.096\\nsamples = 43\\nvalue = [1, 26, 16, 0]\\nclass = Good'),\n",
              " Text(0.6460176991150443, 0.1875, 'suhu  <= 0.125\\nentropy = 0.371\\nsamples = 14\\nvalue = [1, 0, 13, 0]\\nclass = Poor'),\n",
              " Text(0.6283185840707964, 0.0625, 'entropy = 0.0\\nsamples = 11\\nvalue = [0, 0, 11, 0]\\nclass = Poor'),\n",
              " Text(0.6637168141592921, 0.0625, 'entropy = 0.918\\nsamples = 3\\nvalue = [1, 0, 2, 0]\\nclass = Poor'),\n",
              " Text(0.7168141592920354, 0.1875, 'pH <= 0.433\\nentropy = 0.48\\nsamples = 29\\nvalue = [0, 26, 3, 0]\\nclass = Good'),\n",
              " Text(0.6991150442477876, 0.0625, 'entropy = 0.0\\nsamples = 16\\nvalue = [0, 16, 0, 0]\\nclass = Good'),\n",
              " Text(0.7345132743362832, 0.0625, 'entropy = 0.779\\nsamples = 13\\nvalue = [0, 10, 3, 0]\\nclass = Good'),\n",
              " Text(0.7168141592920354, 0.3125, 'entropy = 0.0\\nsamples = 16\\nvalue = [0, 0, 16, 0]\\nclass = Poor'),\n",
              " Text(0.7699115044247787, 0.4375, 'pH <= 0.583\\nentropy = 0.312\\nsamples = 44\\nvalue = [1, 1, 42, 0]\\nclass = Poor'),\n",
              " Text(0.7522123893805309, 0.3125, 'entropy = 0.0\\nsamples = 26\\nvalue = [0, 0, 26, 0]\\nclass = Poor'),\n",
              " Text(0.7876106194690266, 0.3125, 'pH <= 0.633\\nentropy = 0.614\\nsamples = 18\\nvalue = [1, 1, 16, 0]\\nclass = Poor'),\n",
              " Text(0.7699115044247787, 0.1875, 'entropy = 0.0\\nsamples = 1\\nvalue = [0, 1, 0, 0]\\nclass = Good'),\n",
              " Text(0.8053097345132744, 0.1875, 'suhu  <= 0.688\\nentropy = 0.323\\nsamples = 17\\nvalue = [1, 0, 16, 0]\\nclass = Poor'),\n",
              " Text(0.7876106194690266, 0.0625, 'entropy = 0.722\\nsamples = 5\\nvalue = [1, 0, 4, 0]\\nclass = Poor'),\n",
              " Text(0.8230088495575221, 0.0625, 'entropy = 0.0\\nsamples = 12\\nvalue = [0, 0, 12, 0]\\nclass = Poor'),\n",
              " Text(0.9203539823008849, 0.6875, 'pH <= 0.983\\nentropy = 1.512\\nsamples = 129\\nvalue = [62, 0, 38, 29]\\nclass = Bad'),\n",
              " Text(0.8761061946902655, 0.5625, 'pH <= 0.85\\nentropy = 0.976\\nsamples = 93\\nvalue = [55, 0, 38, 0]\\nclass = Bad'),\n",
              " Text(0.8407079646017699, 0.4375, 'TDS <= 0.575\\nentropy = 0.746\\nsamples = 33\\nvalue = [7, 0, 26, 0]\\nclass = Poor'),\n",
              " Text(0.8230088495575221, 0.3125, 'entropy = 0.0\\nsamples = 24\\nvalue = [0, 0, 24, 0]\\nclass = Poor'),\n",
              " Text(0.8584070796460177, 0.3125, 'TDS <= 0.707\\nentropy = 0.764\\nsamples = 9\\nvalue = [7, 0, 2, 0]\\nclass = Bad'),\n",
              " Text(0.8407079646017699, 0.1875, 'entropy = 0.0\\nsamples = 7\\nvalue = [7, 0, 0, 0]\\nclass = Bad'),\n",
              " Text(0.8761061946902655, 0.1875, 'entropy = 0.0\\nsamples = 2\\nvalue = [0, 0, 2, 0]\\nclass = Poor'),\n",
              " Text(0.911504424778761, 0.4375, 'suhu  <= 0.125\\nentropy = 0.722\\nsamples = 60\\nvalue = [48, 0, 12, 0]\\nclass = Bad'),\n",
              " Text(0.8938053097345132, 0.3125, 'entropy = 0.0\\nsamples = 10\\nvalue = [0, 0, 10, 0]\\nclass = Poor'),\n",
              " Text(0.9292035398230089, 0.3125, 'suhu  <= 0.375\\nentropy = 0.242\\nsamples = 50\\nvalue = [48, 0, 2, 0]\\nclass = Bad'),\n",
              " Text(0.911504424778761, 0.1875, 'TDS <= 0.438\\nentropy = 0.619\\nsamples = 13\\nvalue = [11, 0, 2, 0]\\nclass = Bad'),\n",
              " Text(0.8938053097345132, 0.0625, 'entropy = 0.918\\nsamples = 3\\nvalue = [1, 0, 2, 0]\\nclass = Poor'),\n",
              " Text(0.9292035398230089, 0.0625, 'entropy = 0.0\\nsamples = 10\\nvalue = [10, 0, 0, 0]\\nclass = Bad'),\n",
              " Text(0.9469026548672567, 0.1875, 'entropy = 0.0\\nsamples = 37\\nvalue = [37, 0, 0, 0]\\nclass = Bad'),\n",
              " Text(0.9646017699115044, 0.5625, 'suhu  <= 0.375\\nentropy = 0.711\\nsamples = 36\\nvalue = [7, 0, 0, 29]\\nclass = Very Bad'),\n",
              " Text(0.9469026548672567, 0.4375, 'entropy = 0.0\\nsamples = 7\\nvalue = [7, 0, 0, 0]\\nclass = Bad'),\n",
              " Text(0.9823008849557522, 0.4375, 'entropy = 0.0\\nsamples = 29\\nvalue = [0, 0, 0, 29]\\nclass = Very Bad')]"
            ]
          },
          "metadata": {},
          "execution_count": 31
        },
        {
          "output_type": "display_data",
          "data": {
            "text/plain": [
              "<Figure size 2160x1080 with 1 Axes>"
            ],
            "image/png": "[encoded data removed]"
          },
          "metadata": {
            "needs_background": "light"
          }
        }
      ]
    },
    {
      "cell_type": "code",
      "source": [
        "\n",
        "print(export_text(model, feature_names=list_of_features, show_weights=True))"
      ],
      "metadata": {
        "colab": {
          "base_uri": "https://localhost:8080/"
        },
        "id": "WWu7zyOo_O0c",
        "outputId": "06373167-9aa6-4186-e5ff-711ab1706da5"
      },
      "execution_count": null,
      "outputs": [
        {
          "output_type": "stream",
          "name": "stdout",
          "text": [
            "|--- pH <= 0.25\n",
            "|   |--- TDS <= 0.51\n",
            "|   |   |--- pH <= 0.12\n",
            "|   |   |   |--- TDS <= 0.03\n",
            "|   |   |   |   |--- TDS <= 0.02\n",
            "|   |   |   |   |   |--- TDS <= 0.01\n",
            "|   |   |   |   |   |   |--- suhu  <= 0.19\n",
            "|   |   |   |   |   |   |   |--- weights: [4.00, 0.00, 0.00, 0.00] class: 0\n",
            "|   |   |   |   |   |   |--- suhu  >  0.19\n",
            "|   |   |   |   |   |   |   |--- weights: [0.00, 0.00, 1.00, 0.00] class: 2\n",
            "|   |   |   |   |   |--- TDS >  0.01\n",
            "|   |   |   |   |   |   |--- weights: [7.00, 0.00, 0.00, 0.00] class: 0\n",
            "|   |   |   |   |--- TDS >  0.02\n",
            "|   |   |   |   |   |--- weights: [0.00, 0.00, 1.00, 0.00] class: 2\n",
            "|   |   |   |--- TDS >  0.03\n",
            "|   |   |   |   |--- weights: [51.00, 0.00, 0.00, 0.00] class: 0\n",
            "|   |   |--- pH >  0.12\n",
            "|   |   |   |--- suhu  <= 0.38\n",
            "|   |   |   |   |--- weights: [0.00, 0.00, 8.00, 0.00] class: 2\n",
            "|   |   |   |--- suhu  >  0.38\n",
            "|   |   |   |   |--- weights: [7.00, 0.00, 0.00, 0.00] class: 0\n",
            "|   |--- TDS >  0.51\n",
            "|   |   |--- pH <= 0.08\n",
            "|   |   |   |--- suhu  <= 0.25\n",
            "|   |   |   |   |--- weights: [1.00, 0.00, 0.00, 0.00] class: 0\n",
            "|   |   |   |--- suhu  >  0.25\n",
            "|   |   |   |   |--- weights: [0.00, 0.00, 0.00, 14.00] class: 3\n",
            "|   |   |--- pH >  0.08\n",
            "|   |   |   |--- suhu  <= 0.12\n",
            "|   |   |   |   |--- weights: [0.00, 0.00, 2.00, 0.00] class: 2\n",
            "|   |   |   |--- suhu  >  0.12\n",
            "|   |   |   |   |--- weights: [16.00, 0.00, 0.00, 0.00] class: 0\n",
            "|--- pH >  0.25\n",
            "|   |--- pH <= 0.82\n",
            "|   |   |--- TDS <= 0.48\n",
            "|   |   |   |--- TDS <= 0.18\n",
            "|   |   |   |   |--- TDS <= 0.11\n",
            "|   |   |   |   |   |--- pH <= 0.75\n",
            "|   |   |   |   |   |   |--- weights: [0.00, 27.00, 0.00, 0.00] class: 1\n",
            "|   |   |   |   |   |--- pH >  0.75\n",
            "|   |   |   |   |   |   |--- weights: [0.00, 0.00, 1.00, 0.00] class: 2\n",
            "|   |   |   |   |--- TDS >  0.11\n",
            "|   |   |   |   |   |--- suhu  <= 0.38\n",
            "|   |   |   |   |   |   |--- pH <= 0.63\n",
            "|   |   |   |   |   |   |   |--- weights: [0.00, 6.00, 2.00, 0.00] class: 1\n",
            "|   |   |   |   |   |   |--- pH >  0.63\n",
            "|   |   |   |   |   |   |   |--- weights: [0.00, 0.00, 1.00, 0.00] class: 2\n",
            "|   |   |   |   |   |--- suhu  >  0.38\n",
            "|   |   |   |   |   |   |--- TDS <= 0.15\n",
            "|   |   |   |   |   |   |   |--- weights: [0.00, 0.00, 24.00, 0.00] class: 2\n",
            "|   |   |   |   |   |   |--- TDS >  0.15\n",
            "|   |   |   |   |   |   |   |--- weights: [0.00, 1.00, 5.00, 0.00] class: 2\n",
            "|   |   |   |--- TDS >  0.18\n",
            "|   |   |   |   |--- pH <= 0.30\n",
            "|   |   |   |   |   |--- weights: [0.00, 0.00, 1.00, 0.00] class: 2\n",
            "|   |   |   |   |--- pH >  0.30\n",
            "|   |   |   |   |   |--- pH <= 0.70\n",
            "|   |   |   |   |   |   |--- TDS <= 0.45\n",
            "|   |   |   |   |   |   |   |--- weights: [1.00, 81.00, 0.00, 0.00] class: 1\n",
            "|   |   |   |   |   |   |--- TDS >  0.45\n",
            "|   |   |   |   |   |   |   |--- weights: [0.00, 7.00, 1.00, 0.00] class: 1\n",
            "|   |   |   |   |   |--- pH >  0.70\n",
            "|   |   |   |   |   |   |--- TDS <= 0.25\n",
            "|   |   |   |   |   |   |   |--- weights: [0.00, 1.00, 0.00, 0.00] class: 1\n",
            "|   |   |   |   |   |   |--- TDS >  0.25\n",
            "|   |   |   |   |   |   |   |--- weights: [0.00, 0.00, 1.00, 0.00] class: 2\n",
            "|   |   |--- TDS >  0.48\n",
            "|   |   |   |--- suhu  <= 0.38\n",
            "|   |   |   |   |--- pH <= 0.68\n",
            "|   |   |   |   |   |--- pH <= 0.32\n",
            "|   |   |   |   |   |   |--- suhu  <= 0.12\n",
            "|   |   |   |   |   |   |   |--- weights: [0.00, 0.00, 11.00, 0.00] class: 2\n",
            "|   |   |   |   |   |   |--- suhu  >  0.12\n",
            "|   |   |   |   |   |   |   |--- weights: [1.00, 0.00, 2.00, 0.00] class: 2\n",
            "|   |   |   |   |   |--- pH >  0.32\n",
            "|   |   |   |   |   |   |--- pH <= 0.43\n",
            "|   |   |   |   |   |   |   |--- weights: [0.00, 16.00, 0.00, 0.00] class: 1\n",
            "|   |   |   |   |   |   |--- pH >  0.43\n",
            "|   |   |   |   |   |   |   |--- weights: [0.00, 10.00, 3.00, 0.00] class: 1\n",
            "|   |   |   |   |--- pH >  0.68\n",
            "|   |   |   |   |   |--- weights: [0.00, 0.00, 16.00, 0.00] class: 2\n",
            "|   |   |   |--- suhu  >  0.38\n",
            "|   |   |   |   |--- pH <= 0.58\n",
            "|   |   |   |   |   |--- weights: [0.00, 0.00, 26.00, 0.00] class: 2\n",
            "|   |   |   |   |--- pH >  0.58\n",
            "|   |   |   |   |   |--- pH <= 0.63\n",
            "|   |   |   |   |   |   |--- weights: [0.00, 1.00, 0.00, 0.00] class: 1\n",
            "|   |   |   |   |   |--- pH >  0.63\n",
            "|   |   |   |   |   |   |--- suhu  <= 0.69\n",
            "|   |   |   |   |   |   |   |--- weights: [1.00, 0.00, 4.00, 0.00] class: 2\n",
            "|   |   |   |   |   |   |--- suhu  >  0.69\n",
            "|   |   |   |   |   |   |   |--- weights: [0.00, 0.00, 12.00, 0.00] class: 2\n",
            "|   |--- pH >  0.82\n",
            "|   |   |--- pH <= 0.98\n",
            "|   |   |   |--- pH <= 0.85\n",
            "|   |   |   |   |--- TDS <= 0.57\n",
            "|   |   |   |   |   |--- weights: [0.00, 0.00, 24.00, 0.00] class: 2\n",
            "|   |   |   |   |--- TDS >  0.57\n",
            "|   |   |   |   |   |--- TDS <= 0.71\n",
            "|   |   |   |   |   |   |--- weights: [7.00, 0.00, 0.00, 0.00] class: 0\n",
            "|   |   |   |   |   |--- TDS >  0.71\n",
            "|   |   |   |   |   |   |--- weights: [0.00, 0.00, 2.00, 0.00] class: 2\n",
            "|   |   |   |--- pH >  0.85\n",
            "|   |   |   |   |--- suhu  <= 0.12\n",
            "|   |   |   |   |   |--- weights: [0.00, 0.00, 10.00, 0.00] class: 2\n",
            "|   |   |   |   |--- suhu  >  0.12\n",
            "|   |   |   |   |   |--- suhu  <= 0.38\n",
            "|   |   |   |   |   |   |--- TDS <= 0.44\n",
            "|   |   |   |   |   |   |   |--- weights: [1.00, 0.00, 2.00, 0.00] class: 2\n",
            "|   |   |   |   |   |   |--- TDS >  0.44\n",
            "|   |   |   |   |   |   |   |--- weights: [10.00, 0.00, 0.00, 0.00] class: 0\n",
            "|   |   |   |   |   |--- suhu  >  0.38\n",
            "|   |   |   |   |   |   |--- weights: [37.00, 0.00, 0.00, 0.00] class: 0\n",
            "|   |   |--- pH >  0.98\n",
            "|   |   |   |--- suhu  <= 0.38\n",
            "|   |   |   |   |--- weights: [7.00, 0.00, 0.00, 0.00] class: 0\n",
            "|   |   |   |--- suhu  >  0.38\n",
            "|   |   |   |   |--- weights: [0.00, 0.00, 0.00, 29.00] class: 3\n",
            "\n"
          ]
        }
      ]
    },
    {
      "cell_type": "markdown",
      "source": [
        "# **Data Balancing**\n",
        "\n",
        "[PENTING] Setelah itu, penulis melakukan balancing data agar data yang dipakai bisa seimbang dan model yang dibuat diusahakan untuk tidak overfitting kepada satu kategori saja."
      ],
      "metadata": {
        "id": "IoNvq4TC_x6P"
      }
    },
    {
      "cell_type": "code",
      "source": [
        "# data sebelum di-balancing\n",
        "\n",
        "import matplotlib.pyplot as plt\n",
        "count = y_train_tambak.value_counts()\n",
        "count.plot.bar()\n",
        "plt.ylabel('Number of records')\n",
        "plt.xlabel('Target Class')\n",
        "plt.show()"
      ],
      "metadata": {
        "colab": {
          "base_uri": "https://localhost:8080/",
          "height": 276
        },
        "id": "t-g2WsCX_1jU",
        "outputId": "ad38b4bb-401c-4369-c8f1-83592f444d84"
      },
      "execution_count": null,
      "outputs": [
        {
          "output_type": "display_data",
          "data": {
            "text/plain": [
              "<Figure size 432x288 with 1 Axes>"
            ],
            "image/png": "[encoded data removed]"
          },
          "metadata": {
            "needs_background": "light"
          }
        }
      ]
    },
    {
      "cell_type": "code",
      "source": [
        "from collections import Counter\n",
        "print('Original dataset shape %s' % Counter(y_train_tambak))"
      ],
      "metadata": {
        "colab": {
          "base_uri": "https://localhost:8080/"
        },
        "id": "xtbS_IsI_520",
        "outputId": "4ad7c4b2-c615-4758-cf59-1cc0eb3d509f"
      },
      "execution_count": null,
      "outputs": [
        {
          "output_type": "stream",
          "name": "stdout",
          "text": [
            "Original dataset shape Counter({2: 160, 0: 151, 1: 150, 3: 43})\n"
          ]
        }
      ]
    },
    {
      "cell_type": "markdown",
      "source": [
        "**Over sampilng**"
      ],
      "metadata": {
        "id": "I7fN48hn__xd"
      }
    },
    {
      "cell_type": "code",
      "source": [
        "from imblearn.over_sampling import SMOTE\n",
        "# mendefinisikan 2 variabel yang digunakan untuk splitting dataset\n",
        "X_tambak_2 = tambak_new.iloc[:, :-1]\n",
        "y_tambak_2 = tambak_new['Kategori']\n",
        "\n",
        "# penggunaan fungsi train_test_split dalam splitting dataset\n",
        "X_train_tambak_2, X_test_tambak_2, y_train_tambak_2, y_test_tambak_2 = train_test_split(X_tambak_2, y_tambak_2, test_size=0.2, shuffle=False)"
      ],
      "metadata": {
        "id": "ZmXnbEQ8AAUe"
      },
      "execution_count": null,
      "outputs": []
    },
    {
      "cell_type": "code",
      "source": [
        "oversample = SMOTE(sampling_strategy=\"auto\", random_state=42)\n",
        "X_train_tambak_2, y_train_tambak_2 = oversample.fit_resample(X_train_tambak_2, y_train_tambak_2)"
      ],
      "metadata": {
        "id": "4hSTAnaVAIPW"
      },
      "execution_count": null,
      "outputs": []
    },
    {
      "cell_type": "code",
      "source": [
        "from collections import Counter\n",
        "print('Original dataset shape %s' % Counter(y_train_tambak))\n",
        "print('Resampled dataset shape %s' % Counter(y_train_tambak_2))"
      ],
      "metadata": {
        "colab": {
          "base_uri": "https://localhost:8080/"
        },
        "id": "Bb-Qo73fASYr",
        "outputId": "587ad7fc-8065-4f4d-89f1-9a38a5393a83"
      },
      "execution_count": null,
      "outputs": [
        {
          "output_type": "stream",
          "name": "stdout",
          "text": [
            "Original dataset shape Counter({2: 160, 0: 151, 1: 150, 3: 43})\n",
            "Resampled dataset shape Counter({0: 160, 2: 160, 1: 160, 3: 160})\n"
          ]
        }
      ]
    },
    {
      "cell_type": "code",
      "source": [
        "#setelah dilakukan oversampling\n",
        "\n",
        "import matplotlib.pyplot as plt\n",
        "count = y_train_tambak_2.value_counts()\n",
        "count.plot.bar()\n",
        "plt.ylabel('Number of records')\n",
        "plt.xlabel('Target Class')\n",
        "plt.show()"
      ],
      "metadata": {
        "colab": {
          "base_uri": "https://localhost:8080/",
          "height": 276
        },
        "id": "HNYL_GpmAau7",
        "outputId": "a4f6d440-2878-4cb0-9a51-6da68ef2ec40"
      },
      "execution_count": null,
      "outputs": [
        {
          "output_type": "display_data",
          "data": {
            "text/plain": [
              "<Figure size 432x288 with 1 Axes>"
            ],
            "image/png": "[encoded data removed]"
          },
          "metadata": {
            "needs_background": "light"
          }
        }
      ]
    },
    {
      "cell_type": "markdown",
      "source": [
        "**Pembuatan model kedua**"
      ],
      "metadata": {
        "id": "ygzAx15pAhj8"
      }
    },
    {
      "cell_type": "code",
      "source": [
        "model2 = DecisionTreeClassifier(criterion=\"entropy\", max_depth = 7, random_state=42)\n",
        "model2.fit(X_train_tambak_2, y_train_tambak_2)\n"
      ],
      "metadata": {
        "colab": {
          "base_uri": "https://localhost:8080/"
        },
        "id": "VdyTP3EbAiTG",
        "outputId": "4fbade23-3646-450d-81ca-60523dcfaa13"
      },
      "execution_count": null,
      "outputs": [
        {
          "output_type": "execute_result",
          "data": {
            "text/plain": [
              "DecisionTreeClassifier(criterion='entropy', max_depth=7, random_state=42)"
            ]
          },
          "metadata": {},
          "execution_count": 220
        }
      ]
    },
    {
      "cell_type": "code",
      "source": [
        "# mendefinisikan 2 variabel yang digunakan untuk splitting dataset\n",
        "X_tambak_rus = tambak_new.iloc[:, :-1]\n",
        "y_tambak_rus = tambak_new['Kategori']\n",
        "\n",
        "# penggunaan fungsi train_test_split dalam splitting dataset\n",
        "X_train_tambak_rus, X_test_tambak_rus, y_train_tambak_rus, y_test_tambak_rus = train_test_split(X_tambak_rus, y_tambak_rus, test_size=0.2, shuffle=False)"
      ],
      "metadata": {
        "id": "Bh4CmumGAmJY"
      },
      "execution_count": null,
      "outputs": []
    },
    {
      "cell_type": "code",
      "source": [
        "from imblearn.under_sampling import RandomUnderSampler\n",
        "\n",
        "rus = RandomUnderSampler(sampling_strategy=\"auto\")\n",
        "X_train_tambak_rus, y_train_tambak_rus = rus.fit_resample(X_train_tambak_rus, y_train_tambak_rus)\n",
        "\n",
        "ax = y_train_tambak_rus.value_counts().plot.pie(autopct='%.2f')\n",
        "_ = ax.set_title(\"Under-sampling\")"
      ],
      "metadata": {
        "colab": {
          "base_uri": "https://localhost:8080/",
          "height": 264
        },
        "id": "lXVMQCyaAsvE",
        "outputId": "118a76e1-1801-4929-ad0a-ca9785f0c52a"
      },
      "execution_count": null,
      "outputs": [
        {
          "output_type": "display_data",
          "data": {
            "text/plain": [
              "<Figure size 432x288 with 1 Axes>"
            ],
            "image/png": "[encoded data removed]"
          },
          "metadata": {}
        }
      ]
    },
    {
      "cell_type": "code",
      "source": [
        "print('Original dataset shape %s' % Counter(y_train_tambak))\n",
        "print('Resampled dataset shape %s' % Counter(y_train_tambak_rus))"
      ],
      "metadata": {
        "colab": {
          "base_uri": "https://localhost:8080/"
        },
        "id": "qX67Sny5AuGw",
        "outputId": "24e7dbb4-b557-4b0a-d757-fa393a71fa5a"
      },
      "execution_count": null,
      "outputs": [
        {
          "output_type": "stream",
          "name": "stdout",
          "text": [
            "Original dataset shape Counter({2: 160, 0: 151, 1: 150, 3: 43})\n",
            "Resampled dataset shape Counter({0: 43, 1: 43, 2: 43, 3: 43})\n"
          ]
        }
      ]
    },
    {
      "cell_type": "code",
      "source": [
        "count2 = y_train_tambak_rus.value_counts()\n",
        "count2.plot.bar()\n",
        "plt.ylabel('Number of records')\n",
        "plt.xlabel('Target Class')\n",
        "plt.show()"
      ],
      "metadata": {
        "colab": {
          "base_uri": "https://localhost:8080/",
          "height": 276
        },
        "id": "Yux8nEwiAyS4",
        "outputId": "4d4ec151-f609-4f2c-c73c-5098893bb7d3"
      },
      "execution_count": null,
      "outputs": [
        {
          "output_type": "display_data",
          "data": {
            "text/plain": [
              "<Figure size 432x288 with 1 Axes>"
            ],
            "image/png": "[encoded data removed]"
          },
          "metadata": {
            "needs_background": "light"
          }
        }
      ]
    },
    {
      "cell_type": "markdown",
      "source": [
        "# **Evaluasi Model**\n",
        "\n",
        "Ada dua tahapan dalam evaluasi model, yaitu dengan menggunakan confusion matrix serta laporan hasil klasifikasi.\n",
        "\n",
        "# **Confusion Matrix**\n",
        "Pada tahap ini, penulis melakukan evaluasi model dengan Confusion Matrix.\n"
      ],
      "metadata": {
        "id": "eAqyn2-LA7Sy"
      }
    },
    {
      "cell_type": "code",
      "source": [
        "y_pred_tambak = model.predict(X_test_tambak)"
      ],
      "metadata": {
        "id": "xDS4TnEbA8hH"
      },
      "execution_count": null,
      "outputs": []
    },
    {
      "cell_type": "code",
      "source": [
        "from sklearn.metrics import confusion_matrix\n",
        "cm_tambak = confusion_matrix(y_test_tambak, y_pred_tambak)\n",
        "print(cm_tambak)"
      ],
      "metadata": {
        "colab": {
          "base_uri": "https://localhost:8080/"
        },
        "id": "4NasJibNBEW_",
        "outputId": "04b13d11-9591-4b46-f644-5583eb89f514"
      },
      "execution_count": null,
      "outputs": [
        {
          "output_type": "stream",
          "name": "stdout",
          "text": [
            "[[37  0  0  0]\n",
            " [ 0 50  0  0]\n",
            " [ 0  0 25  0]\n",
            " [ 0  0  0 14]]\n"
          ]
        }
      ]
    },
    {
      "cell_type": "code",
      "source": [
        "cm_tambak_plot = pd.DataFrame(cm_tambak,\n",
        "                     index = ['Bad','Good','Poor','Very Bad'], \n",
        "                     columns = ['Bad','Good','Poor','Very Bad'],)"
      ],
      "metadata": {
        "id": "0q_7mK7zBGvE"
      },
      "execution_count": null,
      "outputs": []
    },
    {
      "cell_type": "code",
      "source": [
        "\n",
        "#Plotting the confusion matrix\n",
        "import seaborn as sns\n",
        "\n",
        "plt.figure(figsize=(5,4))\n",
        "sns.heatmap(cm_tambak_plot, annot=True)\n",
        "plt.title('Confusion Matrix')\n",
        "plt.ylabel('Actual Values')\n",
        "plt.xlabel('Predicted Values')\n",
        "plt.show()"
      ],
      "metadata": {
        "colab": {
          "base_uri": "https://localhost:8080/",
          "height": 295
        },
        "id": "gxwpuTL0BK5L",
        "outputId": "0c03a67b-9dea-443d-d639-a6ba4847b715"
      },
      "execution_count": null,
      "outputs": [
        {
          "output_type": "display_data",
          "data": {
            "text/plain": [
              "<Figure size 360x288 with 2 Axes>"
            ],
            "image/png": "[encoded data removed]"
          },
          "metadata": {
            "needs_background": "light"
          }
        }
      ]
    },
    {
      "cell_type": "code",
      "source": [
        "y_pred_tambak_2 = model2.predict(X_test_tambak_2)"
      ],
      "metadata": {
        "id": "bPTiJUVnBQwq"
      },
      "execution_count": null,
      "outputs": []
    },
    {
      "cell_type": "code",
      "source": [
        "cm_tambak_2 = confusion_matrix(y_test_tambak_2, y_pred_tambak_2)\n",
        "print(cm_tambak_2)"
      ],
      "metadata": {
        "colab": {
          "base_uri": "https://localhost:8080/"
        },
        "id": "vpjd6kvSBYjd",
        "outputId": "8d123ccd-f5ae-436d-d253-b601ffdacac1"
      },
      "execution_count": null,
      "outputs": [
        {
          "output_type": "stream",
          "name": "stdout",
          "text": [
            "[[37  0  0  0]\n",
            " [ 0 50  0  0]\n",
            " [ 0  0 25  0]\n",
            " [ 0  0  0 14]]\n"
          ]
        }
      ]
    },
    {
      "cell_type": "code",
      "source": [
        "cm_tambak_plot_2 = pd.DataFrame(cm_tambak_2,\n",
        "                     index = ['Bad','Good','Poor','Very Bad'], \n",
        "                     columns = ['Bad','Good','Poor','Very Bad'],)"
      ],
      "metadata": {
        "id": "vy2gw89LBaqz"
      },
      "execution_count": null,
      "outputs": []
    },
    {
      "cell_type": "code",
      "source": [
        "#Plotting the confusion matrix\n",
        "\n",
        "plt.figure(figsize=(5,4))\n",
        "sns.heatmap(cm_tambak_plot_2, annot=True)\n",
        "plt.title('Confusion Matrix')\n",
        "plt.ylabel('Actual Values')\n",
        "plt.xlabel('Predicted Values')\n",
        "plt.show()"
      ],
      "metadata": {
        "colab": {
          "base_uri": "https://localhost:8080/",
          "height": 295
        },
        "id": "-v0LP18pBdMZ",
        "outputId": "08411003-de41-440e-949c-3ed42f657b79"
      },
      "execution_count": null,
      "outputs": [
        {
          "output_type": "display_data",
          "data": {
            "text/plain": [
              "<Figure size 360x288 with 2 Axes>"
            ],
            "image/png": "[encoded data removed]"
          },
          "metadata": {
            "needs_background": "light"
          }
        }
      ]
    },
    {
      "cell_type": "markdown",
      "source": [
        "# **Laporan Hasil Klasifikasi**"
      ],
      "metadata": {
        "id": "Xh_gvhnzBlWd"
      }
    },
    {
      "cell_type": "code",
      "source": [
        "from sklearn.metrics import classification_report"
      ],
      "metadata": {
        "id": "CQc8KJw8Bn6q"
      },
      "execution_count": null,
      "outputs": []
    },
    {
      "cell_type": "code",
      "source": [
        "y_pred_tambak = model.predict(X_test_tambak)\n",
        "print(classification_report(y_test_tambak, y_pred_tambak))"
      ],
      "metadata": {
        "colab": {
          "base_uri": "https://localhost:8080/"
        },
        "id": "wD27N6MVBqNT",
        "outputId": "fdd56dea-8331-4452-d314-789e5491c577"
      },
      "execution_count": null,
      "outputs": [
        {
          "output_type": "stream",
          "name": "stdout",
          "text": [
            "              precision    recall  f1-score   support\n",
            "\n",
            "           0       1.00      1.00      1.00        37\n",
            "           1       1.00      1.00      1.00        50\n",
            "           2       1.00      1.00      1.00        25\n",
            "           3       1.00      1.00      1.00        14\n",
            "\n",
            "    accuracy                           1.00       126\n",
            "   macro avg       1.00      1.00      1.00       126\n",
            "weighted avg       1.00      1.00      1.00       126\n",
            "\n"
          ]
        }
      ]
    },
    {
      "cell_type": "code",
      "source": [
        "y_pred_tambak_2 = model2.predict(X_test_tambak_2)\n",
        "print(classification_report(y_test_tambak_2, y_pred_tambak_2))"
      ],
      "metadata": {
        "colab": {
          "base_uri": "https://localhost:8080/"
        },
        "id": "sVOFl-1sBtoV",
        "outputId": "715da118-1ef6-4e99-f76f-84e22f9111bc"
      },
      "execution_count": null,
      "outputs": [
        {
          "output_type": "stream",
          "name": "stdout",
          "text": [
            "              precision    recall  f1-score   support\n",
            "\n",
            "           0       1.00      1.00      1.00        37\n",
            "           1       1.00      1.00      1.00        50\n",
            "           2       1.00      1.00      1.00        25\n",
            "           3       1.00      1.00      1.00        14\n",
            "\n",
            "    accuracy                           1.00       126\n",
            "   macro avg       1.00      1.00      1.00       126\n",
            "weighted avg       1.00      1.00      1.00       126\n",
            "\n"
          ]
        }
      ]
    }
  ]
}